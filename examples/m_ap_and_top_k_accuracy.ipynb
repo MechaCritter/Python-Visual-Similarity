{
 "cells": [
  {
   "metadata": {},
   "cell_type": "markdown",
   "source": [
    "## **Computing `Mean Average Precision (mAP)` and `Top-k Accuracy` for our Retrieval System**\n",
    "We'll use all images in the `validation + test dataset` as queries. For each query:\n",
    "1. Retrieve all images, rank them by similarity.\n",
    "2. Compute average precision for each query.\n",
    "3. Take the mean across all queries => mAP. This takes into consideration the ranking of the images.\n",
    "4. We will evaluate top 1 accuracy and top-k accuracy."
   ],
   "id": "bf8480748f688a15"
  },
  {
   "metadata": {},
   "cell_type": "markdown",
   "source": "### **1. Import Necessary Libraries**",
   "id": "4a6d104abe78a29b"
  },
  {
   "metadata": {
    "ExecuteTime": {
     "end_time": "2025-01-18T22:38:28.259573Z",
     "start_time": "2025-01-18T22:38:21.970744Z"
    }
   },
   "cell_type": "code",
   "source": [
    "import torch\n",
    "from torchvision.models import vgg16, VGG16_Weights\n",
    "\n",
    "from pyvisim.eval import top_k_accuracy, top_k_map\n",
    "from pyvisim.datasets import OxfordFlowerDataset\n",
    "from pyvisim.features import DeepConvFeature\n",
    "from pyvisim.encoders import VLADEncoder, FisherVectorEncoder, Pipeline, KMeansWeights, GMMWeights\n",
    "from pyvisim._utils import load_model, plot_and_save_barplot"
   ],
   "id": "5ded369c2ee9dacc",
   "outputs": [],
   "execution_count": 1
  },
  {
   "metadata": {},
   "cell_type": "markdown",
   "source": "## 2. Declare Datasets",
   "id": "ab924ba0ac7eabff"
  },
  {
   "metadata": {
    "ExecuteTime": {
     "end_time": "2025-01-18T22:38:28.363542Z",
     "start_time": "2025-01-18T22:38:28.263578Z"
    }
   },
   "cell_type": "code",
   "source": [
    "train_dataset = OxfordFlowerDataset(purpose=\"train\")\n",
    "val_dataset = OxfordFlowerDataset(purpose=[\"validation\", \"test\"])"
   ],
   "id": "be415aef84e070cd",
   "outputs": [],
   "execution_count": 2
  },
  {
   "metadata": {
    "ExecuteTime": {
     "end_time": "2025-01-18T22:38:32.359807Z",
     "start_time": "2025-01-18T22:38:28.539613Z"
    }
   },
   "cell_type": "code",
   "source": [
    "train_imgs, train_labels = zip(*[(img, label) for img, label, _ in train_dataset])\n",
    "val_imgs, val_labels = zip(*[(img, label) for img, label, _ in val_dataset])"
   ],
   "id": "45cf34f1532e800e",
   "outputs": [
    {
     "ename": "KeyboardInterrupt",
     "evalue": "",
     "output_type": "error",
     "traceback": [
      "\u001B[1;31m---------------------------------------------------------------------------\u001B[0m",
      "\u001B[1;31mKeyboardInterrupt\u001B[0m                         Traceback (most recent call last)",
      "Cell \u001B[1;32mIn[3], line 1\u001B[0m\n\u001B[1;32m----> 1\u001B[0m train_imgs, train_labels \u001B[38;5;241m=\u001B[39m \u001B[38;5;28mzip\u001B[39m(\u001B[38;5;241m*\u001B[39m\u001B[43m[\u001B[49m\u001B[43m(\u001B[49m\u001B[43mimg\u001B[49m\u001B[43m,\u001B[49m\u001B[43m \u001B[49m\u001B[43mlabel\u001B[49m\u001B[43m)\u001B[49m\u001B[43m \u001B[49m\u001B[38;5;28;43;01mfor\u001B[39;49;00m\u001B[43m \u001B[49m\u001B[43mimg\u001B[49m\u001B[43m,\u001B[49m\u001B[43m \u001B[49m\u001B[43mlabel\u001B[49m\u001B[43m,\u001B[49m\u001B[43m \u001B[49m\u001B[43m_\u001B[49m\u001B[43m \u001B[49m\u001B[38;5;129;43;01min\u001B[39;49;00m\u001B[43m \u001B[49m\u001B[43mtrain_dataset\u001B[49m\u001B[43m]\u001B[49m)\n\u001B[0;32m      2\u001B[0m val_imgs, val_labels \u001B[38;5;241m=\u001B[39m \u001B[38;5;28mzip\u001B[39m(\u001B[38;5;241m*\u001B[39m[(img, label) \u001B[38;5;28;01mfor\u001B[39;00m img, label, _ \u001B[38;5;129;01min\u001B[39;00m val_dataset])\n",
      "Cell \u001B[1;32mIn[3], line 1\u001B[0m, in \u001B[0;36m<listcomp>\u001B[1;34m(.0)\u001B[0m\n\u001B[1;32m----> 1\u001B[0m train_imgs, train_labels \u001B[38;5;241m=\u001B[39m \u001B[38;5;28mzip\u001B[39m(\u001B[38;5;241m*\u001B[39m\u001B[43m[\u001B[49m\u001B[43m(\u001B[49m\u001B[43mimg\u001B[49m\u001B[43m,\u001B[49m\u001B[43m \u001B[49m\u001B[43mlabel\u001B[49m\u001B[43m)\u001B[49m\u001B[43m \u001B[49m\u001B[38;5;28;43;01mfor\u001B[39;49;00m\u001B[43m \u001B[49m\u001B[43mimg\u001B[49m\u001B[43m,\u001B[49m\u001B[43m \u001B[49m\u001B[43mlabel\u001B[49m\u001B[43m,\u001B[49m\u001B[43m \u001B[49m\u001B[43m_\u001B[49m\u001B[43m \u001B[49m\u001B[38;5;129;43;01min\u001B[39;49;00m\u001B[43m \u001B[49m\u001B[43mtrain_dataset\u001B[49m\u001B[43m]\u001B[49m)\n\u001B[0;32m      2\u001B[0m val_imgs, val_labels \u001B[38;5;241m=\u001B[39m \u001B[38;5;28mzip\u001B[39m(\u001B[38;5;241m*\u001B[39m[(img, label) \u001B[38;5;28;01mfor\u001B[39;00m img, label, _ \u001B[38;5;129;01min\u001B[39;00m val_dataset])\n",
      "File \u001B[1;32m~\\Documents\\Uni_Infos\\Bachelorarbeit\\workspace\\similarity_metrics_of_images\\pyvisim\\datasets\\datasets.py:281\u001B[0m, in \u001B[0;36mOxfordFlowerDataset.__getitem__\u001B[1;34m(self, idx)\u001B[0m\n\u001B[0;32m    278\u001B[0m img_path \u001B[38;5;241m=\u001B[39m \u001B[38;5;28mself\u001B[39m\u001B[38;5;241m.\u001B[39mimage_paths[idx]\n\u001B[0;32m    279\u001B[0m label \u001B[38;5;241m=\u001B[39m \u001B[38;5;28mself\u001B[39m\u001B[38;5;241m.\u001B[39mlabels[idx] \u001B[38;5;28;01mif\u001B[39;00m \u001B[38;5;28mself\u001B[39m\u001B[38;5;241m.\u001B[39mlabels \u001B[38;5;28;01melse\u001B[39;00m \u001B[38;5;241m-\u001B[39m\u001B[38;5;241m1\u001B[39m\n\u001B[1;32m--> 281\u001B[0m image \u001B[38;5;241m=\u001B[39m cv2\u001B[38;5;241m.\u001B[39mcvtColor(\u001B[43mcv2\u001B[49m\u001B[38;5;241;43m.\u001B[39;49m\u001B[43mimread\u001B[49m\u001B[43m(\u001B[49m\u001B[43mimg_path\u001B[49m\u001B[43m)\u001B[49m, cv2\u001B[38;5;241m.\u001B[39mCOLOR_BGR2RGB)\n\u001B[0;32m    283\u001B[0m \u001B[38;5;28;01mif\u001B[39;00m \u001B[38;5;28mself\u001B[39m\u001B[38;5;241m.\u001B[39mtransform:\n\u001B[0;32m    284\u001B[0m     image \u001B[38;5;241m=\u001B[39m \u001B[38;5;28mself\u001B[39m\u001B[38;5;241m.\u001B[39mtransform(image)\n",
      "\u001B[1;31mKeyboardInterrupt\u001B[0m: "
     ]
    }
   ],
   "execution_count": 3
  },
  {
   "metadata": {},
   "cell_type": "markdown",
   "source": "### **3. Deep Conv Feature Extractor**\n",
   "id": "ada7c8083a999ccc"
  },
  {
   "metadata": {
    "ExecuteTime": {
     "end_time": "2025-01-18T22:38:34.112833Z",
     "start_time": "2025-01-18T22:38:33.549502Z"
    }
   },
   "cell_type": "code",
   "source": [
    "extractor = DeepConvFeature(\n",
    "    model=vgg16(weights=VGG16_Weights.DEFAULT),\n",
    "    layer_index=-1,  # Last conv layer\n",
    "    device='cuda' if torch.cuda.is_available() else 'cpu'\n",
    ")"
   ],
   "id": "fa5f60808ff1fede",
   "outputs": [
    {
     "name": "stdout",
     "output_type": "stream",
     "text": [
      "2025-01-18 23:38:34,109 - Feature_Extractor - INFO - Selected layer: features.28, Conv2d(512, 512, kernel_size=(3, 3), stride=(1, 1), padding=(1, 1))\n"
     ]
    }
   ],
   "execution_count": 4
  },
  {
   "metadata": {},
   "cell_type": "markdown",
   "source": "If you want an example of how to train your own PCA and clustering models from scratch, please visit the notebook `examples/getting_started.ipynb`.",
   "id": "7152fbf688cea278"
  },
  {
   "metadata": {},
   "cell_type": "markdown",
   "source": "### **3. Load the Encoders**",
   "id": "b63a88e78e223b90"
  },
  {
   "metadata": {
    "ExecuteTime": {
     "end_time": "2025-01-18T22:38:05.529933Z",
     "start_time": "2025-01-18T22:38:05.514921Z"
    }
   },
   "cell_type": "code",
   "source": [
    "vlad_encoder = VLADEncoder(\n",
    "    feature_extractor=extractor,\n",
    "    weights=KMeansWeights.OXFORD102_K256_VGG16,\n",
    "    power_norm_weight=1.0,\n",
    ")\n",
    "\n",
    "fisher_vector_encoder = FisherVectorEncoder(\n",
    "    feature_extractor=extractor,\n",
    "    weights=GMMWeights.OXFORD102_K256_VGG16_PCA,\n",
    "    power_norm_weight=0.5,\n",
    ")\n",
    "\n",
    "\n",
    "pipeline_with_pca = Pipeline(\n",
    "    [vlad_encoder, fisher_vector_encoder]\n",
    ")"
   ],
   "id": "763831fb769f4137",
   "outputs": [
    {
     "ename": "NameError",
     "evalue": "name 'VLADEncoder' is not defined",
     "output_type": "error",
     "traceback": [
      "\u001B[1;31m---------------------------------------------------------------------------\u001B[0m",
      "\u001B[1;31mNameError\u001B[0m                                 Traceback (most recent call last)",
      "Cell \u001B[1;32mIn[3], line 1\u001B[0m\n\u001B[1;32m----> 1\u001B[0m vlad_encoder \u001B[38;5;241m=\u001B[39m \u001B[43mVLADEncoder\u001B[49m(\n\u001B[0;32m      2\u001B[0m     feature_extractor\u001B[38;5;241m=\u001B[39mextractor,\n\u001B[0;32m      3\u001B[0m     weights\u001B[38;5;241m=\u001B[39mKMeansWeights\u001B[38;5;241m.\u001B[39mOXFORD102_K256_VGG16,\n\u001B[0;32m      4\u001B[0m     power_norm_weight\u001B[38;5;241m=\u001B[39m\u001B[38;5;241m1.0\u001B[39m,\n\u001B[0;32m      5\u001B[0m )\n\u001B[0;32m      7\u001B[0m fisher_vector_encoder \u001B[38;5;241m=\u001B[39m FisherVectorEncoder(\n\u001B[0;32m      8\u001B[0m     feature_extractor\u001B[38;5;241m=\u001B[39mextractor,\n\u001B[0;32m      9\u001B[0m     weights\u001B[38;5;241m=\u001B[39mGMMWeights\u001B[38;5;241m.\u001B[39mOXFORD102_K256_VGG16_PCA,\n\u001B[0;32m     10\u001B[0m     power_norm_weight\u001B[38;5;241m=\u001B[39m\u001B[38;5;241m0.5\u001B[39m,\n\u001B[0;32m     11\u001B[0m )\n\u001B[0;32m     14\u001B[0m pipeline_with_pca \u001B[38;5;241m=\u001B[39m Pipeline(\n\u001B[0;32m     15\u001B[0m     [vlad_encoder, fisher_vector_encoder]\n\u001B[0;32m     16\u001B[0m )\n",
      "\u001B[1;31mNameError\u001B[0m: name 'VLADEncoder' is not defined"
     ]
    }
   ],
   "execution_count": 3
  },
  {
   "metadata": {},
   "cell_type": "markdown",
   "source": [
    "## **4. Performance metrics**\n",
    "\n",
    "First, we prepare the data."
   ],
   "id": "246dd4be523ea126"
  },
  {
   "metadata": {
    "ExecuteTime": {
     "end_time": "2025-01-18T15:05:52.132427Z",
     "start_time": "2025-01-18T15:01:12.475947Z"
    }
   },
   "cell_type": "code",
   "source": [
    "train_paths, train_labels = zip(*[(path, label) for _, label, path in train_dataset])\n",
    "encodings_vlad = vlad_encoder.generate_encoding_map(train_paths)\n",
    "encodings_fisher = fisher_vector_encoder.generate_encoding_map(train_paths)\n",
    "encodings_pipeline = pipeline_with_pca.generate_encoding_map(train_paths)\n",
    "dataset_labels_dict = dict(zip(train_paths, train_labels))"
   ],
   "id": "b41f8223d09379ac",
   "outputs": [
    {
     "ename": "KeyboardInterrupt",
     "evalue": "",
     "output_type": "error",
     "traceback": [
      "\u001B[1;31m---------------------------------------------------------------------------\u001B[0m",
      "\u001B[1;31mTypeError\u001B[0m                                 Traceback (most recent call last)",
      "    \u001B[1;31m[... skipping hidden 1 frame]\u001B[0m\n",
      "Cell \u001B[1;32mIn[7], line 4\u001B[0m\n\u001B[0;32m      3\u001B[0m encodings_fisher \u001B[38;5;241m=\u001B[39m fisher_vector_encoder\u001B[38;5;241m.\u001B[39mgenerate_encoding_map(train_paths)\n\u001B[1;32m----> 4\u001B[0m encodings_pipeline \u001B[38;5;241m=\u001B[39m \u001B[43mpipeline_with_pca\u001B[49m\u001B[38;5;241;43m.\u001B[39;49m\u001B[43mgenerate_encoding_map\u001B[49m\u001B[43m(\u001B[49m\u001B[43mtrain_paths\u001B[49m\u001B[43m)\u001B[49m\n\u001B[0;32m      5\u001B[0m dataset_labels_dict \u001B[38;5;241m=\u001B[39m \u001B[38;5;28mdict\u001B[39m(\u001B[38;5;28mzip\u001B[39m(train_paths, train_labels))\n",
      "File \u001B[1;32m~\\Documents\\Uni_Infos\\Bachelorarbeit\\workspace\\similarity_metrics_of_images\\pyvisim\\encoders\\pipeline.py:81\u001B[0m, in \u001B[0;36mPipeline.generate_encoding_map\u001B[1;34m(self, image_paths)\u001B[0m\n\u001B[0;32m     80\u001B[0m images \u001B[38;5;241m=\u001B[39m (cv2\u001B[38;5;241m.\u001B[39mcvtColor(cv2\u001B[38;5;241m.\u001B[39mimread(path), cv2\u001B[38;5;241m.\u001B[39mCOLOR_BGR2RGB) \u001B[38;5;28;01mfor\u001B[39;00m path \u001B[38;5;129;01min\u001B[39;00m image_paths)\n\u001B[1;32m---> 81\u001B[0m \u001B[38;5;28;01mreturn\u001B[39;00m \u001B[38;5;28mdict\u001B[39m(\u001B[38;5;28mzip\u001B[39m(image_paths, \u001B[38;5;28;43mself\u001B[39;49m\u001B[38;5;241;43m.\u001B[39;49m\u001B[43mencode\u001B[49m\u001B[43m(\u001B[49m\u001B[43mimages\u001B[49m\u001B[43m)\u001B[49m))\n",
      "File \u001B[1;32m~\\Documents\\Uni_Infos\\Bachelorarbeit\\workspace\\similarity_metrics_of_images\\pyvisim\\encoders\\pipeline.py:63\u001B[0m, in \u001B[0;36mPipeline.encode\u001B[1;34m(self, images)\u001B[0m\n\u001B[0;32m     62\u001B[0m metric\u001B[38;5;241m.\u001B[39mflatten \u001B[38;5;241m=\u001B[39m \u001B[38;5;28;01mTrue\u001B[39;00m\n\u001B[1;32m---> 63\u001B[0m encodings \u001B[38;5;241m=\u001B[39m \u001B[43mmetric\u001B[49m\u001B[38;5;241;43m.\u001B[39;49m\u001B[43mencode\u001B[49m\u001B[43m(\u001B[49m\u001B[43mimages\u001B[49m\u001B[43m)\u001B[49m \u001B[38;5;66;03m# Each of size (num_imgs, feature_dim)\u001B[39;00m\n\u001B[0;32m     64\u001B[0m all_encodings\u001B[38;5;241m.\u001B[39mappend(encodings)\n",
      "File \u001B[1;32m~\\Documents\\Uni_Infos\\Bachelorarbeit\\workspace\\similarity_metrics_of_images\\pyvisim\\encoders\\vlad.py:79\u001B[0m, in \u001B[0;36mVLADEncoder.encode\u001B[1;34m(self, images)\u001B[0m\n\u001B[0;32m     78\u001B[0m \u001B[38;5;28;01mfor\u001B[39;00m image \u001B[38;5;129;01min\u001B[39;00m images:\n\u001B[1;32m---> 79\u001B[0m     descriptors \u001B[38;5;241m=\u001B[39m \u001B[38;5;28;43mself\u001B[39;49m\u001B[38;5;241;43m.\u001B[39;49m\u001B[43mfeature_extractor\u001B[49m\u001B[43m(\u001B[49m\u001B[43mimage\u001B[49m\u001B[43m)\u001B[49m\n\u001B[0;32m     80\u001B[0m     \u001B[38;5;28;01mif\u001B[39;00m \u001B[38;5;28mself\u001B[39m\u001B[38;5;241m.\u001B[39mpca:\n",
      "File \u001B[1;32m~\\Documents\\Uni_Infos\\Bachelorarbeit\\workspace\\similarity_metrics_of_images\\pyvisim\\features\\_features.py:34\u001B[0m, in \u001B[0;36m_check_output_shape.<locals>.wrapper\u001B[1;34m(self, *args, **kwargs)\u001B[0m\n\u001B[0;32m     33\u001B[0m \u001B[38;5;28;01mif\u001B[39;00m \u001B[38;5;129;01mnot\u001B[39;00m \u001B[38;5;28misinstance\u001B[39m(image, np\u001B[38;5;241m.\u001B[39mndarray):\n\u001B[1;32m---> 34\u001B[0m     \u001B[38;5;28;01mraise\u001B[39;00m \u001B[38;5;167;01mTypeError\u001B[39;00m(\u001B[38;5;124mf\u001B[39m\u001B[38;5;124m\"\u001B[39m\u001B[38;5;124mCurrently, only NumPy Images are supported. Got \u001B[39m\u001B[38;5;132;01m{\u001B[39;00m\u001B[38;5;28mtype\u001B[39m(image)\u001B[38;5;132;01m}\u001B[39;00m\u001B[38;5;124m instead.\u001B[39m\u001B[38;5;124m\"\u001B[39m)\n\u001B[0;32m     35\u001B[0m feat_vecs \u001B[38;5;241m=\u001B[39m func(\u001B[38;5;28mself\u001B[39m, \u001B[38;5;241m*\u001B[39margs, \u001B[38;5;241m*\u001B[39m\u001B[38;5;241m*\u001B[39mkwargs)\n",
      "\u001B[1;31mTypeError\u001B[0m: Currently, only NumPy Images are supported. Got <class 'itertools._tee'> instead.",
      "\nDuring handling of the above exception, another exception occurred:\n",
      "\u001B[1;31mKeyboardInterrupt\u001B[0m                         Traceback (most recent call last)",
      "File \u001B[1;32m~\\AppData\\Roaming\\Python\\Python311\\site-packages\\IPython\\core\\interactiveshell.py:2168\u001B[0m, in \u001B[0;36mInteractiveShell.showtraceback\u001B[1;34m(self, exc_tuple, filename, tb_offset, exception_only, running_compiled_code)\u001B[0m\n\u001B[0;32m   2167\u001B[0m     \u001B[38;5;28;01melse\u001B[39;00m:\n\u001B[1;32m-> 2168\u001B[0m         stb \u001B[38;5;241m=\u001B[39m \u001B[38;5;28;43mself\u001B[39;49m\u001B[38;5;241;43m.\u001B[39;49m\u001B[43mInteractiveTB\u001B[49m\u001B[38;5;241;43m.\u001B[39;49m\u001B[43mstructured_traceback\u001B[49m\u001B[43m(\u001B[49m\n\u001B[0;32m   2169\u001B[0m \u001B[43m            \u001B[49m\u001B[43metype\u001B[49m\u001B[43m,\u001B[49m\u001B[43m \u001B[49m\u001B[43mvalue\u001B[49m\u001B[43m,\u001B[49m\u001B[43m \u001B[49m\u001B[43mtb\u001B[49m\u001B[43m,\u001B[49m\u001B[43m \u001B[49m\u001B[43mtb_offset\u001B[49m\u001B[38;5;241;43m=\u001B[39;49m\u001B[43mtb_offset\u001B[49m\n\u001B[0;32m   2170\u001B[0m \u001B[43m        \u001B[49m\u001B[43m)\u001B[49m\n\u001B[0;32m   2172\u001B[0m \u001B[38;5;28;01mexcept\u001B[39;00m \u001B[38;5;167;01mException\u001B[39;00m:\n",
      "File \u001B[1;32m~\\AppData\\Roaming\\Python\\Python311\\site-packages\\IPython\\core\\ultratb.py:1457\u001B[0m, in \u001B[0;36mAutoFormattedTB.structured_traceback\u001B[1;34m(self, etype, evalue, etb, tb_offset, number_of_lines_of_context)\u001B[0m\n\u001B[0;32m   1456\u001B[0m     \u001B[38;5;28mself\u001B[39m\u001B[38;5;241m.\u001B[39mtb \u001B[38;5;241m=\u001B[39m etb\n\u001B[1;32m-> 1457\u001B[0m \u001B[38;5;28;01mreturn\u001B[39;00m \u001B[43mFormattedTB\u001B[49m\u001B[38;5;241;43m.\u001B[39;49m\u001B[43mstructured_traceback\u001B[49m\u001B[43m(\u001B[49m\n\u001B[0;32m   1458\u001B[0m \u001B[43m    \u001B[49m\u001B[38;5;28;43mself\u001B[39;49m\u001B[43m,\u001B[49m\u001B[43m \u001B[49m\u001B[43metype\u001B[49m\u001B[43m,\u001B[49m\u001B[43m \u001B[49m\u001B[43mevalue\u001B[49m\u001B[43m,\u001B[49m\u001B[43m \u001B[49m\u001B[43metb\u001B[49m\u001B[43m,\u001B[49m\u001B[43m \u001B[49m\u001B[43mtb_offset\u001B[49m\u001B[43m,\u001B[49m\u001B[43m \u001B[49m\u001B[43mnumber_of_lines_of_context\u001B[49m\n\u001B[0;32m   1459\u001B[0m \u001B[43m\u001B[49m\u001B[43m)\u001B[49m\n",
      "File \u001B[1;32m~\\AppData\\Roaming\\Python\\Python311\\site-packages\\IPython\\core\\ultratb.py:1348\u001B[0m, in \u001B[0;36mFormattedTB.structured_traceback\u001B[1;34m(self, etype, value, tb, tb_offset, number_of_lines_of_context)\u001B[0m\n\u001B[0;32m   1346\u001B[0m \u001B[38;5;28;01mif\u001B[39;00m mode \u001B[38;5;129;01min\u001B[39;00m \u001B[38;5;28mself\u001B[39m\u001B[38;5;241m.\u001B[39mverbose_modes:\n\u001B[0;32m   1347\u001B[0m     \u001B[38;5;66;03m# Verbose modes need a full traceback\u001B[39;00m\n\u001B[1;32m-> 1348\u001B[0m     \u001B[38;5;28;01mreturn\u001B[39;00m \u001B[43mVerboseTB\u001B[49m\u001B[38;5;241;43m.\u001B[39;49m\u001B[43mstructured_traceback\u001B[49m\u001B[43m(\u001B[49m\n\u001B[0;32m   1349\u001B[0m \u001B[43m        \u001B[49m\u001B[38;5;28;43mself\u001B[39;49m\u001B[43m,\u001B[49m\u001B[43m \u001B[49m\u001B[43metype\u001B[49m\u001B[43m,\u001B[49m\u001B[43m \u001B[49m\u001B[43mvalue\u001B[49m\u001B[43m,\u001B[49m\u001B[43m \u001B[49m\u001B[43mtb\u001B[49m\u001B[43m,\u001B[49m\u001B[43m \u001B[49m\u001B[43mtb_offset\u001B[49m\u001B[43m,\u001B[49m\u001B[43m \u001B[49m\u001B[43mnumber_of_lines_of_context\u001B[49m\n\u001B[0;32m   1350\u001B[0m \u001B[43m    \u001B[49m\u001B[43m)\u001B[49m\n\u001B[0;32m   1351\u001B[0m \u001B[38;5;28;01melif\u001B[39;00m mode \u001B[38;5;241m==\u001B[39m \u001B[38;5;124m'\u001B[39m\u001B[38;5;124mMinimal\u001B[39m\u001B[38;5;124m'\u001B[39m:\n",
      "File \u001B[1;32m~\\AppData\\Roaming\\Python\\Python311\\site-packages\\IPython\\core\\ultratb.py:1195\u001B[0m, in \u001B[0;36mVerboseTB.structured_traceback\u001B[1;34m(self, etype, evalue, etb, tb_offset, number_of_lines_of_context)\u001B[0m\n\u001B[0;32m   1194\u001B[0m \u001B[38;5;250m\u001B[39m\u001B[38;5;124;03m\"\"\"Return a nice text document describing the traceback.\"\"\"\u001B[39;00m\n\u001B[1;32m-> 1195\u001B[0m formatted_exception \u001B[38;5;241m=\u001B[39m \u001B[38;5;28;43mself\u001B[39;49m\u001B[38;5;241;43m.\u001B[39;49m\u001B[43mformat_exception_as_a_whole\u001B[49m\u001B[43m(\u001B[49m\u001B[43metype\u001B[49m\u001B[43m,\u001B[49m\u001B[43m \u001B[49m\u001B[43mevalue\u001B[49m\u001B[43m,\u001B[49m\u001B[43m \u001B[49m\u001B[43metb\u001B[49m\u001B[43m,\u001B[49m\u001B[43m \u001B[49m\u001B[43mnumber_of_lines_of_context\u001B[49m\u001B[43m,\u001B[49m\n\u001B[0;32m   1196\u001B[0m \u001B[43m                                                       \u001B[49m\u001B[43mtb_offset\u001B[49m\u001B[43m)\u001B[49m\n\u001B[0;32m   1198\u001B[0m colors \u001B[38;5;241m=\u001B[39m \u001B[38;5;28mself\u001B[39m\u001B[38;5;241m.\u001B[39mColors  \u001B[38;5;66;03m# just a shorthand + quicker name lookup\u001B[39;00m\n",
      "File \u001B[1;32m~\\AppData\\Roaming\\Python\\Python311\\site-packages\\IPython\\core\\ultratb.py:1085\u001B[0m, in \u001B[0;36mVerboseTB.format_exception_as_a_whole\u001B[1;34m(self, etype, evalue, etb, number_of_lines_of_context, tb_offset)\u001B[0m\n\u001B[0;32m   1083\u001B[0m head \u001B[38;5;241m=\u001B[39m \u001B[38;5;28mself\u001B[39m\u001B[38;5;241m.\u001B[39mprepare_header(\u001B[38;5;28mstr\u001B[39m(etype), \u001B[38;5;28mself\u001B[39m\u001B[38;5;241m.\u001B[39mlong_header)\n\u001B[0;32m   1084\u001B[0m records \u001B[38;5;241m=\u001B[39m (\n\u001B[1;32m-> 1085\u001B[0m     \u001B[38;5;28;43mself\u001B[39;49m\u001B[38;5;241;43m.\u001B[39;49m\u001B[43mget_records\u001B[49m\u001B[43m(\u001B[49m\u001B[43metb\u001B[49m\u001B[43m,\u001B[49m\u001B[43m \u001B[49m\u001B[43mnumber_of_lines_of_context\u001B[49m\u001B[43m,\u001B[49m\u001B[43m \u001B[49m\u001B[43mtb_offset\u001B[49m\u001B[43m)\u001B[49m \u001B[38;5;28;01mif\u001B[39;00m etb \u001B[38;5;28;01melse\u001B[39;00m []\n\u001B[0;32m   1086\u001B[0m )\n\u001B[0;32m   1088\u001B[0m frames \u001B[38;5;241m=\u001B[39m []\n",
      "File \u001B[1;32m~\\AppData\\Roaming\\Python\\Python311\\site-packages\\IPython\\core\\ultratb.py:1153\u001B[0m, in \u001B[0;36mVerboseTB.get_records\u001B[1;34m(self, etb, number_of_lines_of_context, tb_offset)\u001B[0m\n\u001B[0;32m   1152\u001B[0m \u001B[38;5;28;01mtry\u001B[39;00m:\n\u001B[1;32m-> 1153\u001B[0m     mod \u001B[38;5;241m=\u001B[39m \u001B[43minspect\u001B[49m\u001B[38;5;241;43m.\u001B[39;49m\u001B[43mgetmodule\u001B[49m\u001B[43m(\u001B[49m\u001B[43mcf\u001B[49m\u001B[38;5;241;43m.\u001B[39;49m\u001B[43mtb_frame\u001B[49m\u001B[43m)\u001B[49m\n\u001B[0;32m   1154\u001B[0m     \u001B[38;5;28;01mif\u001B[39;00m mod \u001B[38;5;129;01mis\u001B[39;00m \u001B[38;5;129;01mnot\u001B[39;00m \u001B[38;5;28;01mNone\u001B[39;00m:\n",
      "File \u001B[1;32m~\\anaconda3\\envs\\conda_env\\Lib\\inspect.py:980\u001B[0m, in \u001B[0;36mgetmodule\u001B[1;34m(object, _filename)\u001B[0m\n\u001B[0;32m    979\u001B[0m \u001B[38;5;28;01mtry\u001B[39;00m:\n\u001B[1;32m--> 980\u001B[0m     file \u001B[38;5;241m=\u001B[39m \u001B[43mgetabsfile\u001B[49m\u001B[43m(\u001B[49m\u001B[38;5;28;43mobject\u001B[39;49m\u001B[43m,\u001B[49m\u001B[43m \u001B[49m\u001B[43m_filename\u001B[49m\u001B[43m)\u001B[49m\n\u001B[0;32m    981\u001B[0m \u001B[38;5;28;01mexcept\u001B[39;00m (\u001B[38;5;167;01mTypeError\u001B[39;00m, \u001B[38;5;167;01mFileNotFoundError\u001B[39;00m):\n",
      "File \u001B[1;32m~\\anaconda3\\envs\\conda_env\\Lib\\inspect.py:963\u001B[0m, in \u001B[0;36mgetabsfile\u001B[1;34m(object, _filename)\u001B[0m\n\u001B[0;32m    962\u001B[0m \u001B[38;5;28;01mif\u001B[39;00m _filename \u001B[38;5;129;01mis\u001B[39;00m \u001B[38;5;28;01mNone\u001B[39;00m:\n\u001B[1;32m--> 963\u001B[0m     _filename \u001B[38;5;241m=\u001B[39m \u001B[43mgetsourcefile\u001B[49m\u001B[43m(\u001B[49m\u001B[38;5;28;43mobject\u001B[39;49m\u001B[43m)\u001B[49m \u001B[38;5;129;01mor\u001B[39;00m getfile(\u001B[38;5;28mobject\u001B[39m)\n\u001B[0;32m    964\u001B[0m \u001B[38;5;28;01mreturn\u001B[39;00m os\u001B[38;5;241m.\u001B[39mpath\u001B[38;5;241m.\u001B[39mnormcase(os\u001B[38;5;241m.\u001B[39mpath\u001B[38;5;241m.\u001B[39mabspath(_filename))\n",
      "File \u001B[1;32m~\\anaconda3\\envs\\conda_env\\Lib\\inspect.py:948\u001B[0m, in \u001B[0;36mgetsourcefile\u001B[1;34m(object)\u001B[0m\n\u001B[0;32m    947\u001B[0m \u001B[38;5;66;03m# only return a non-existent filename if the module has a PEP 302 loader\u001B[39;00m\n\u001B[1;32m--> 948\u001B[0m module \u001B[38;5;241m=\u001B[39m \u001B[43mgetmodule\u001B[49m\u001B[43m(\u001B[49m\u001B[38;5;28;43mobject\u001B[39;49m\u001B[43m,\u001B[49m\u001B[43m \u001B[49m\u001B[43mfilename\u001B[49m\u001B[43m)\u001B[49m\n\u001B[0;32m    949\u001B[0m \u001B[38;5;28;01mif\u001B[39;00m \u001B[38;5;28mgetattr\u001B[39m(module, \u001B[38;5;124m'\u001B[39m\u001B[38;5;124m__loader__\u001B[39m\u001B[38;5;124m'\u001B[39m, \u001B[38;5;28;01mNone\u001B[39;00m) \u001B[38;5;129;01mis\u001B[39;00m \u001B[38;5;129;01mnot\u001B[39;00m \u001B[38;5;28;01mNone\u001B[39;00m:\n",
      "File \u001B[1;32m~\\anaconda3\\envs\\conda_env\\Lib\\inspect.py:994\u001B[0m, in \u001B[0;36mgetmodule\u001B[1;34m(object, _filename)\u001B[0m\n\u001B[0;32m    993\u001B[0m _filesbymodname[modname] \u001B[38;5;241m=\u001B[39m f\n\u001B[1;32m--> 994\u001B[0m f \u001B[38;5;241m=\u001B[39m \u001B[43mgetabsfile\u001B[49m\u001B[43m(\u001B[49m\u001B[43mmodule\u001B[49m\u001B[43m)\u001B[49m\n\u001B[0;32m    995\u001B[0m \u001B[38;5;66;03m# Always map to the name the module knows itself by\u001B[39;00m\n",
      "File \u001B[1;32m~\\anaconda3\\envs\\conda_env\\Lib\\inspect.py:963\u001B[0m, in \u001B[0;36mgetabsfile\u001B[1;34m(object, _filename)\u001B[0m\n\u001B[0;32m    962\u001B[0m \u001B[38;5;28;01mif\u001B[39;00m _filename \u001B[38;5;129;01mis\u001B[39;00m \u001B[38;5;28;01mNone\u001B[39;00m:\n\u001B[1;32m--> 963\u001B[0m     _filename \u001B[38;5;241m=\u001B[39m \u001B[43mgetsourcefile\u001B[49m\u001B[43m(\u001B[49m\u001B[38;5;28;43mobject\u001B[39;49m\u001B[43m)\u001B[49m \u001B[38;5;129;01mor\u001B[39;00m getfile(\u001B[38;5;28mobject\u001B[39m)\n\u001B[0;32m    964\u001B[0m \u001B[38;5;28;01mreturn\u001B[39;00m os\u001B[38;5;241m.\u001B[39mpath\u001B[38;5;241m.\u001B[39mnormcase(os\u001B[38;5;241m.\u001B[39mpath\u001B[38;5;241m.\u001B[39mabspath(_filename))\n",
      "File \u001B[1;32m~\\anaconda3\\envs\\conda_env\\Lib\\inspect.py:945\u001B[0m, in \u001B[0;36mgetsourcefile\u001B[1;34m(object)\u001B[0m\n\u001B[0;32m    944\u001B[0m     \u001B[38;5;28;01mreturn\u001B[39;00m \u001B[38;5;28;01mNone\u001B[39;00m\n\u001B[1;32m--> 945\u001B[0m \u001B[38;5;28;01mif\u001B[39;00m \u001B[43mos\u001B[49m\u001B[38;5;241;43m.\u001B[39;49m\u001B[43mpath\u001B[49m\u001B[38;5;241;43m.\u001B[39;49m\u001B[43mexists\u001B[49m\u001B[43m(\u001B[49m\u001B[43mfilename\u001B[49m\u001B[43m)\u001B[49m:\n\u001B[0;32m    946\u001B[0m     \u001B[38;5;28;01mreturn\u001B[39;00m filename\n",
      "File \u001B[1;32m<frozen genericpath>:19\u001B[0m, in \u001B[0;36mexists\u001B[1;34m(path)\u001B[0m\n",
      "\u001B[1;31mKeyboardInterrupt\u001B[0m: ",
      "\nDuring handling of the above exception, another exception occurred:\n",
      "\u001B[1;31mKeyboardInterrupt\u001B[0m                         Traceback (most recent call last)",
      "    \u001B[1;31m[... skipping hidden 1 frame]\u001B[0m\n",
      "File \u001B[1;32m~\\AppData\\Roaming\\Python\\Python311\\site-packages\\IPython\\core\\interactiveshell.py:2189\u001B[0m, in \u001B[0;36mInteractiveShell.showtraceback\u001B[1;34m(self, exc_tuple, filename, tb_offset, exception_only, running_compiled_code)\u001B[0m\n\u001B[0;32m   2186\u001B[0m         \u001B[38;5;28mself\u001B[39m\u001B[38;5;241m.\u001B[39m_showtraceback(etype, value, stb)\n\u001B[0;32m   2188\u001B[0m \u001B[38;5;28;01mexcept\u001B[39;00m \u001B[38;5;167;01mKeyboardInterrupt\u001B[39;00m:\n\u001B[1;32m-> 2189\u001B[0m     \u001B[38;5;28mprint\u001B[39m(\u001B[38;5;124m'\u001B[39m\u001B[38;5;130;01m\\n\u001B[39;00m\u001B[38;5;124m'\u001B[39m \u001B[38;5;241m+\u001B[39m \u001B[38;5;28;43mself\u001B[39;49m\u001B[38;5;241;43m.\u001B[39;49m\u001B[43mget_exception_only\u001B[49m\u001B[43m(\u001B[49m\u001B[43m)\u001B[49m, file\u001B[38;5;241m=\u001B[39msys\u001B[38;5;241m.\u001B[39mstderr)\n",
      "File \u001B[1;32m~\\AppData\\Roaming\\Python\\Python311\\site-packages\\IPython\\core\\interactiveshell.py:2112\u001B[0m, in \u001B[0;36mInteractiveShell.get_exception_only\u001B[1;34m(self, exc_tuple)\u001B[0m\n\u001B[0;32m   2107\u001B[0m \u001B[38;5;250m\u001B[39m\u001B[38;5;124;03m\"\"\"\u001B[39;00m\n\u001B[0;32m   2108\u001B[0m \u001B[38;5;124;03mReturn as a string (ending with a newline) the exception that\u001B[39;00m\n\u001B[0;32m   2109\u001B[0m \u001B[38;5;124;03mjust occurred, without any traceback.\u001B[39;00m\n\u001B[0;32m   2110\u001B[0m \u001B[38;5;124;03m\"\"\"\u001B[39;00m\n\u001B[0;32m   2111\u001B[0m etype, value, tb \u001B[38;5;241m=\u001B[39m \u001B[38;5;28mself\u001B[39m\u001B[38;5;241m.\u001B[39m_get_exc_info(exc_tuple)\n\u001B[1;32m-> 2112\u001B[0m msg \u001B[38;5;241m=\u001B[39m \u001B[43mtraceback\u001B[49m\u001B[38;5;241;43m.\u001B[39;49m\u001B[43mformat_exception_only\u001B[49m\u001B[43m(\u001B[49m\u001B[43metype\u001B[49m\u001B[43m,\u001B[49m\u001B[43m \u001B[49m\u001B[43mvalue\u001B[49m\u001B[43m)\u001B[49m\n\u001B[0;32m   2113\u001B[0m \u001B[38;5;28;01mreturn\u001B[39;00m \u001B[38;5;124m'\u001B[39m\u001B[38;5;124m'\u001B[39m\u001B[38;5;241m.\u001B[39mjoin(msg)\n",
      "File \u001B[1;32m~\\anaconda3\\envs\\conda_env\\Lib\\traceback.py:156\u001B[0m, in \u001B[0;36mformat_exception_only\u001B[1;34m(exc, value)\u001B[0m\n\u001B[0;32m    154\u001B[0m \u001B[38;5;28;01mif\u001B[39;00m value \u001B[38;5;129;01mis\u001B[39;00m _sentinel:\n\u001B[0;32m    155\u001B[0m     value \u001B[38;5;241m=\u001B[39m exc\n\u001B[1;32m--> 156\u001B[0m te \u001B[38;5;241m=\u001B[39m \u001B[43mTracebackException\u001B[49m\u001B[43m(\u001B[49m\u001B[38;5;28;43mtype\u001B[39;49m\u001B[43m(\u001B[49m\u001B[43mvalue\u001B[49m\u001B[43m)\u001B[49m\u001B[43m,\u001B[49m\u001B[43m \u001B[49m\u001B[43mvalue\u001B[49m\u001B[43m,\u001B[49m\u001B[43m \u001B[49m\u001B[38;5;28;43;01mNone\u001B[39;49;00m\u001B[43m,\u001B[49m\u001B[43m \u001B[49m\u001B[43mcompact\u001B[49m\u001B[38;5;241;43m=\u001B[39;49m\u001B[38;5;28;43;01mTrue\u001B[39;49;00m\u001B[43m)\u001B[49m\n\u001B[0;32m    157\u001B[0m \u001B[38;5;28;01mreturn\u001B[39;00m \u001B[38;5;28mlist\u001B[39m(te\u001B[38;5;241m.\u001B[39mformat_exception_only())\n",
      "File \u001B[1;32m~\\anaconda3\\envs\\conda_env\\Lib\\traceback.py:787\u001B[0m, in \u001B[0;36mTracebackException.__init__\u001B[1;34m(self, exc_type, exc_value, exc_traceback, limit, lookup_lines, capture_locals, compact, max_group_width, max_group_depth, _seen)\u001B[0m\n\u001B[0;32m    784\u001B[0m     need_context \u001B[38;5;241m=\u001B[39m \u001B[38;5;28;01mTrue\u001B[39;00m\n\u001B[0;32m    785\u001B[0m \u001B[38;5;28;01mif\u001B[39;00m (e \u001B[38;5;129;01mand\u001B[39;00m e\u001B[38;5;241m.\u001B[39m__context__ \u001B[38;5;129;01mis\u001B[39;00m \u001B[38;5;129;01mnot\u001B[39;00m \u001B[38;5;28;01mNone\u001B[39;00m\n\u001B[0;32m    786\u001B[0m     \u001B[38;5;129;01mand\u001B[39;00m need_context \u001B[38;5;129;01mand\u001B[39;00m \u001B[38;5;28mid\u001B[39m(e\u001B[38;5;241m.\u001B[39m__context__) \u001B[38;5;129;01mnot\u001B[39;00m \u001B[38;5;129;01min\u001B[39;00m _seen):\n\u001B[1;32m--> 787\u001B[0m     context \u001B[38;5;241m=\u001B[39m \u001B[43mTracebackException\u001B[49m\u001B[43m(\u001B[49m\n\u001B[0;32m    788\u001B[0m \u001B[43m        \u001B[49m\u001B[38;5;28;43mtype\u001B[39;49m\u001B[43m(\u001B[49m\u001B[43me\u001B[49m\u001B[38;5;241;43m.\u001B[39;49m\u001B[43m__context__\u001B[49m\u001B[43m)\u001B[49m\u001B[43m,\u001B[49m\n\u001B[0;32m    789\u001B[0m \u001B[43m        \u001B[49m\u001B[43me\u001B[49m\u001B[38;5;241;43m.\u001B[39;49m\u001B[43m__context__\u001B[49m\u001B[43m,\u001B[49m\n\u001B[0;32m    790\u001B[0m \u001B[43m        \u001B[49m\u001B[43me\u001B[49m\u001B[38;5;241;43m.\u001B[39;49m\u001B[43m__context__\u001B[49m\u001B[38;5;241;43m.\u001B[39;49m\u001B[43m__traceback__\u001B[49m\u001B[43m,\u001B[49m\n\u001B[0;32m    791\u001B[0m \u001B[43m        \u001B[49m\u001B[43mlimit\u001B[49m\u001B[38;5;241;43m=\u001B[39;49m\u001B[43mlimit\u001B[49m\u001B[43m,\u001B[49m\n\u001B[0;32m    792\u001B[0m \u001B[43m        \u001B[49m\u001B[43mlookup_lines\u001B[49m\u001B[38;5;241;43m=\u001B[39;49m\u001B[43mlookup_lines\u001B[49m\u001B[43m,\u001B[49m\n\u001B[0;32m    793\u001B[0m \u001B[43m        \u001B[49m\u001B[43mcapture_locals\u001B[49m\u001B[38;5;241;43m=\u001B[39;49m\u001B[43mcapture_locals\u001B[49m\u001B[43m,\u001B[49m\n\u001B[0;32m    794\u001B[0m \u001B[43m        \u001B[49m\u001B[43mmax_group_width\u001B[49m\u001B[38;5;241;43m=\u001B[39;49m\u001B[43mmax_group_width\u001B[49m\u001B[43m,\u001B[49m\n\u001B[0;32m    795\u001B[0m \u001B[43m        \u001B[49m\u001B[43mmax_group_depth\u001B[49m\u001B[38;5;241;43m=\u001B[39;49m\u001B[43mmax_group_depth\u001B[49m\u001B[43m,\u001B[49m\n\u001B[0;32m    796\u001B[0m \u001B[43m        \u001B[49m\u001B[43m_seen\u001B[49m\u001B[38;5;241;43m=\u001B[39;49m\u001B[43m_seen\u001B[49m\u001B[43m)\u001B[49m\n\u001B[0;32m    797\u001B[0m \u001B[38;5;28;01melse\u001B[39;00m:\n\u001B[0;32m    798\u001B[0m     context \u001B[38;5;241m=\u001B[39m \u001B[38;5;28;01mNone\u001B[39;00m\n",
      "File \u001B[1;32m~\\anaconda3\\envs\\conda_env\\Lib\\traceback.py:728\u001B[0m, in \u001B[0;36mTracebackException.__init__\u001B[1;34m(self, exc_type, exc_value, exc_traceback, limit, lookup_lines, capture_locals, compact, max_group_width, max_group_depth, _seen)\u001B[0m\n\u001B[0;32m    725\u001B[0m \u001B[38;5;28mself\u001B[39m\u001B[38;5;241m.\u001B[39mmax_group_width \u001B[38;5;241m=\u001B[39m max_group_width\n\u001B[0;32m    726\u001B[0m \u001B[38;5;28mself\u001B[39m\u001B[38;5;241m.\u001B[39mmax_group_depth \u001B[38;5;241m=\u001B[39m max_group_depth\n\u001B[1;32m--> 728\u001B[0m \u001B[38;5;28mself\u001B[39m\u001B[38;5;241m.\u001B[39mstack \u001B[38;5;241m=\u001B[39m \u001B[43mStackSummary\u001B[49m\u001B[38;5;241;43m.\u001B[39;49m\u001B[43m_extract_from_extended_frame_gen\u001B[49m\u001B[43m(\u001B[49m\n\u001B[0;32m    729\u001B[0m \u001B[43m    \u001B[49m\u001B[43m_walk_tb_with_full_positions\u001B[49m\u001B[43m(\u001B[49m\u001B[43mexc_traceback\u001B[49m\u001B[43m)\u001B[49m\u001B[43m,\u001B[49m\n\u001B[0;32m    730\u001B[0m \u001B[43m    \u001B[49m\u001B[43mlimit\u001B[49m\u001B[38;5;241;43m=\u001B[39;49m\u001B[43mlimit\u001B[49m\u001B[43m,\u001B[49m\u001B[43m \u001B[49m\u001B[43mlookup_lines\u001B[49m\u001B[38;5;241;43m=\u001B[39;49m\u001B[43mlookup_lines\u001B[49m\u001B[43m,\u001B[49m\n\u001B[0;32m    731\u001B[0m \u001B[43m    \u001B[49m\u001B[43mcapture_locals\u001B[49m\u001B[38;5;241;43m=\u001B[39;49m\u001B[43mcapture_locals\u001B[49m\u001B[43m)\u001B[49m\n\u001B[0;32m    732\u001B[0m \u001B[38;5;28mself\u001B[39m\u001B[38;5;241m.\u001B[39mexc_type \u001B[38;5;241m=\u001B[39m exc_type\n\u001B[0;32m    733\u001B[0m \u001B[38;5;66;03m# Capture now to permit freeing resources: only complication is in the\u001B[39;00m\n\u001B[0;32m    734\u001B[0m \u001B[38;5;66;03m# unofficial API _format_final_exc_line\u001B[39;00m\n",
      "File \u001B[1;32m~\\anaconda3\\envs\\conda_env\\Lib\\traceback.py:433\u001B[0m, in \u001B[0;36mStackSummary._extract_from_extended_frame_gen\u001B[1;34m(klass, frame_gen, limit, lookup_lines, capture_locals)\u001B[0m\n\u001B[0;32m    431\u001B[0m \u001B[38;5;28;01mif\u001B[39;00m lookup_lines:\n\u001B[0;32m    432\u001B[0m     \u001B[38;5;28;01mfor\u001B[39;00m f \u001B[38;5;129;01min\u001B[39;00m result:\n\u001B[1;32m--> 433\u001B[0m         \u001B[43mf\u001B[49m\u001B[38;5;241;43m.\u001B[39;49m\u001B[43mline\u001B[49m\n\u001B[0;32m    434\u001B[0m \u001B[38;5;28;01mreturn\u001B[39;00m result\n",
      "File \u001B[1;32m~\\anaconda3\\envs\\conda_env\\Lib\\traceback.py:318\u001B[0m, in \u001B[0;36mFrameSummary.line\u001B[1;34m(self)\u001B[0m\n\u001B[0;32m    316\u001B[0m     \u001B[38;5;28;01mif\u001B[39;00m \u001B[38;5;28mself\u001B[39m\u001B[38;5;241m.\u001B[39mlineno \u001B[38;5;129;01mis\u001B[39;00m \u001B[38;5;28;01mNone\u001B[39;00m:\n\u001B[0;32m    317\u001B[0m         \u001B[38;5;28;01mreturn\u001B[39;00m \u001B[38;5;28;01mNone\u001B[39;00m\n\u001B[1;32m--> 318\u001B[0m     \u001B[38;5;28mself\u001B[39m\u001B[38;5;241m.\u001B[39m_line \u001B[38;5;241m=\u001B[39m \u001B[43mlinecache\u001B[49m\u001B[38;5;241;43m.\u001B[39;49m\u001B[43mgetline\u001B[49m\u001B[43m(\u001B[49m\u001B[38;5;28;43mself\u001B[39;49m\u001B[38;5;241;43m.\u001B[39;49m\u001B[43mfilename\u001B[49m\u001B[43m,\u001B[49m\u001B[43m \u001B[49m\u001B[38;5;28;43mself\u001B[39;49m\u001B[38;5;241;43m.\u001B[39;49m\u001B[43mlineno\u001B[49m\u001B[43m)\u001B[49m\n\u001B[0;32m    319\u001B[0m \u001B[38;5;28;01mreturn\u001B[39;00m \u001B[38;5;28mself\u001B[39m\u001B[38;5;241m.\u001B[39m_line\u001B[38;5;241m.\u001B[39mstrip()\n",
      "File \u001B[1;32m~\\anaconda3\\envs\\conda_env\\Lib\\linecache.py:30\u001B[0m, in \u001B[0;36mgetline\u001B[1;34m(filename, lineno, module_globals)\u001B[0m\n\u001B[0;32m     26\u001B[0m \u001B[38;5;28;01mdef\u001B[39;00m \u001B[38;5;21mgetline\u001B[39m(filename, lineno, module_globals\u001B[38;5;241m=\u001B[39m\u001B[38;5;28;01mNone\u001B[39;00m):\n\u001B[0;32m     27\u001B[0m \u001B[38;5;250m    \u001B[39m\u001B[38;5;124;03m\"\"\"Get a line for a Python source file from the cache.\u001B[39;00m\n\u001B[0;32m     28\u001B[0m \u001B[38;5;124;03m    Update the cache if it doesn't contain an entry for this file already.\"\"\"\u001B[39;00m\n\u001B[1;32m---> 30\u001B[0m     lines \u001B[38;5;241m=\u001B[39m \u001B[43mgetlines\u001B[49m\u001B[43m(\u001B[49m\u001B[43mfilename\u001B[49m\u001B[43m,\u001B[49m\u001B[43m \u001B[49m\u001B[43mmodule_globals\u001B[49m\u001B[43m)\u001B[49m\n\u001B[0;32m     31\u001B[0m     \u001B[38;5;28;01mif\u001B[39;00m \u001B[38;5;241m1\u001B[39m \u001B[38;5;241m<\u001B[39m\u001B[38;5;241m=\u001B[39m lineno \u001B[38;5;241m<\u001B[39m\u001B[38;5;241m=\u001B[39m \u001B[38;5;28mlen\u001B[39m(lines):\n\u001B[0;32m     32\u001B[0m         \u001B[38;5;28;01mreturn\u001B[39;00m lines[lineno \u001B[38;5;241m-\u001B[39m \u001B[38;5;241m1\u001B[39m]\n",
      "File \u001B[1;32m~\\anaconda3\\envs\\conda_env\\Lib\\linecache.py:46\u001B[0m, in \u001B[0;36mgetlines\u001B[1;34m(filename, module_globals)\u001B[0m\n\u001B[0;32m     43\u001B[0m         \u001B[38;5;28;01mreturn\u001B[39;00m cache[filename][\u001B[38;5;241m2\u001B[39m]\n\u001B[0;32m     45\u001B[0m \u001B[38;5;28;01mtry\u001B[39;00m:\n\u001B[1;32m---> 46\u001B[0m     \u001B[38;5;28;01mreturn\u001B[39;00m \u001B[43mupdatecache\u001B[49m\u001B[43m(\u001B[49m\u001B[43mfilename\u001B[49m\u001B[43m,\u001B[49m\u001B[43m \u001B[49m\u001B[43mmodule_globals\u001B[49m\u001B[43m)\u001B[49m\n\u001B[0;32m     47\u001B[0m \u001B[38;5;28;01mexcept\u001B[39;00m \u001B[38;5;167;01mMemoryError\u001B[39;00m:\n\u001B[0;32m     48\u001B[0m     clearcache()\n",
      "File \u001B[1;32m~\\anaconda3\\envs\\conda_env\\Lib\\linecache.py:136\u001B[0m, in \u001B[0;36mupdatecache\u001B[1;34m(filename, module_globals)\u001B[0m\n\u001B[0;32m    134\u001B[0m         \u001B[38;5;28;01mreturn\u001B[39;00m []\n\u001B[0;32m    135\u001B[0m \u001B[38;5;28;01mtry\u001B[39;00m:\n\u001B[1;32m--> 136\u001B[0m     \u001B[38;5;28;01mwith\u001B[39;00m \u001B[43mtokenize\u001B[49m\u001B[38;5;241;43m.\u001B[39;49m\u001B[43mopen\u001B[49m\u001B[43m(\u001B[49m\u001B[43mfullname\u001B[49m\u001B[43m)\u001B[49m \u001B[38;5;28;01mas\u001B[39;00m fp:\n\u001B[0;32m    137\u001B[0m         lines \u001B[38;5;241m=\u001B[39m fp\u001B[38;5;241m.\u001B[39mreadlines()\n\u001B[0;32m    138\u001B[0m \u001B[38;5;28;01mexcept\u001B[39;00m (\u001B[38;5;167;01mOSError\u001B[39;00m, \u001B[38;5;167;01mUnicodeDecodeError\u001B[39;00m, \u001B[38;5;167;01mSyntaxError\u001B[39;00m):\n",
      "File \u001B[1;32m~\\anaconda3\\envs\\conda_env\\Lib\\tokenize.py:396\u001B[0m, in \u001B[0;36mopen\u001B[1;34m(filename)\u001B[0m\n\u001B[0;32m    392\u001B[0m \u001B[38;5;28;01mdef\u001B[39;00m \u001B[38;5;21mopen\u001B[39m(filename):\n\u001B[0;32m    393\u001B[0m \u001B[38;5;250m    \u001B[39m\u001B[38;5;124;03m\"\"\"Open a file in read only mode using the encoding detected by\u001B[39;00m\n\u001B[0;32m    394\u001B[0m \u001B[38;5;124;03m    detect_encoding().\u001B[39;00m\n\u001B[0;32m    395\u001B[0m \u001B[38;5;124;03m    \"\"\"\u001B[39;00m\n\u001B[1;32m--> 396\u001B[0m     buffer \u001B[38;5;241m=\u001B[39m _builtin_open(filename, \u001B[38;5;124m'\u001B[39m\u001B[38;5;124mrb\u001B[39m\u001B[38;5;124m'\u001B[39m)\n\u001B[0;32m    397\u001B[0m     \u001B[38;5;28;01mtry\u001B[39;00m:\n\u001B[0;32m    398\u001B[0m         encoding, lines \u001B[38;5;241m=\u001B[39m detect_encoding(buffer\u001B[38;5;241m.\u001B[39mreadline)\n",
      "\u001B[1;31mKeyboardInterrupt\u001B[0m: "
     ]
    }
   ],
   "execution_count": 7
  },
  {
   "metadata": {},
   "cell_type": "markdown",
   "source": [
    "## **5.1. Top-k accuracy**\n",
    "\n",
    "How it works:\n",
    "- For each query, retrieve **top-k** most similar images.\n",
    "- If any of them share the same label as the query, that counts as correct.\n",
    "- The final accuracy is `num_correct_queries / num_queries`.\n",
    "\n",
    "Let's compute the top-1 accuracy (the most relevant match has to be the correct one):"
   ],
   "id": "1d6b73d975357b37"
  },
  {
   "metadata": {
    "ExecuteTime": {
     "end_time": "2025-01-18T15:05:52.154432600Z",
     "start_time": "2025-01-09T21:53:42.475612Z"
    }
   },
   "cell_type": "code",
   "source": [
    "# Top-1 Accuracy for VLAD with PCA\n",
    "acc_k1_vlad = top_k_accuracy(\n",
    "    images=val_imgs,\n",
    "    image_labels=val_labels,\n",
    "    encoding_map=encodings_vlad,\n",
    "    path_labels_dict=dataset_labels_dict,\n",
    "    encoder=vlad_encoder,\n",
    "    k=1\n",
    ")\n",
    "print(\"Top-1 Accuracy, VLAD:\", acc_k1_vlad)"
   ],
   "id": "23424c86ecbb01c7",
   "outputs": [
    {
     "name": "stdout",
     "output_type": "stream",
     "text": [
      "Top-1 Accuracy, VLAD: 0.6931372549019608\n"
     ]
    }
   ],
   "execution_count": 9
  },
  {
   "metadata": {
    "ExecuteTime": {
     "end_time": "2025-01-18T15:05:52.179947500Z",
     "start_time": "2025-01-09T23:24:27.165882Z"
    }
   },
   "cell_type": "code",
   "source": [
    "# Top-1 Accuracy for Fisher with PCA\n",
    "acc_k1_fisher = top_k_accuracy(\n",
    "    images=val_imgs,\n",
    "    image_labels=val_labels,\n",
    "    encoding_map=encodings_fisher,\n",
    "    path_labels_dict=dataset_labels_dict,\n",
    "    encoder=fisher_vector_encoder,\n",
    "    k=1\n",
    ")\n",
    "print(\"Top-1 Accuracy, Fisher Vector:\", acc_k1_fisher)"
   ],
   "id": "725ea0423e63477f",
   "outputs": [
    {
     "name": "stdout",
     "output_type": "stream",
     "text": [
      "Top-1 Accuracy, Fisher Vector: 0.667156862745098\n"
     ]
    }
   ],
   "execution_count": 10
  },
  {
   "metadata": {
    "ExecuteTime": {
     "end_time": "2025-01-18T15:05:52.208471100Z",
     "start_time": "2025-01-10T02:07:41.302458Z"
    }
   },
   "cell_type": "code",
   "source": [
    "# Top-1 Accuracy for Pipeline with PCA\n",
    "acc_k1_pipeline = top_k_accuracy(\n",
    "    images=val_imgs,\n",
    "    image_labels=val_labels,\n",
    "    encoding_map=encodings_pipeline,\n",
    "    path_labels_dict=dataset_labels_dict,\n",
    "    encoder=pipeline_with_pca,\n",
    "    k=1\n",
    ")\n",
    "print(\"Top-1 Accuracy, Pipeline:\", acc_k1_pipeline)"
   ],
   "id": "8e6cd79ba70cb3a3",
   "outputs": [
    {
     "name": "stdout",
     "output_type": "stream",
     "text": [
      "Top-1 Accuracy, Pipeline: 0.6936274509803921\n"
     ]
    }
   ],
   "execution_count": 11
  },
  {
   "metadata": {},
   "cell_type": "markdown",
   "source": "Normally, we might also consider the second, third and so on.. most relevant results. In this case, we can set `k > 1`. Let's try for `k=5`:",
   "id": "8aba5dd7bfdb19f1"
  },
  {
   "metadata": {
    "ExecuteTime": {
     "end_time": "2025-01-18T15:05:52.231470800Z",
     "start_time": "2025-01-10T07:57:15.001806Z"
    }
   },
   "cell_type": "code",
   "source": [
    "# Top-5 Accuracy for VLAD with PCA\n",
    "acc_k5_vlad = top_k_accuracy(\n",
    "    images=val_imgs,\n",
    "    image_labels=val_labels,\n",
    "    encoding_map=encodings_vlad,\n",
    "    path_labels_dict=dataset_labels_dict,\n",
    "    encoder=vlad_encoder,\n",
    "    k=5\n",
    ")\n",
    "print(\"Top-5 Accuracy, VLAD:\", acc_k5_vlad)"
   ],
   "id": "153f3bf9522c1f1e",
   "outputs": [
    {
     "name": "stdout",
     "output_type": "stream",
     "text": [
      "Top-5 Accuracy, VLAD: 0.8671568627450981\n"
     ]
    }
   ],
   "execution_count": 12
  },
  {
   "metadata": {
    "ExecuteTime": {
     "end_time": "2025-01-18T15:05:52.236470900Z",
     "start_time": "2025-01-10T10:53:06.987149Z"
    }
   },
   "cell_type": "code",
   "source": [
    "# Top-5 Accuracy for Fisher with PCA\n",
    "acc_k5_fisher = top_k_accuracy(\n",
    "    images=val_imgs,\n",
    "    image_labels=val_labels,\n",
    "    encoding_map=encodings_fisher,\n",
    "    path_labels_dict=dataset_labels_dict,\n",
    "    encoder=fisher_vector_encoder,\n",
    "    k=5\n",
    ")\n",
    "print(\"Top-5 Accuracy, Fisher Vector:\", acc_k5_fisher)"
   ],
   "id": "859c2f71ffc2d0bd",
   "outputs": [
    {
     "name": "stdout",
     "output_type": "stream",
     "text": [
      "Top-5 Accuracy, Fisher Vector: 0.8387254901960784\n"
     ]
    }
   ],
   "execution_count": 13
  },
  {
   "metadata": {
    "ExecuteTime": {
     "end_time": "2025-01-18T15:05:52.236470900Z",
     "start_time": "2025-01-10T14:05:17.095015Z"
    }
   },
   "cell_type": "code",
   "source": [
    "# Top-5 Accuracy for Pipeline with PCA\n",
    "acc_k5_pipeline = top_k_accuracy(\n",
    "    images=val_imgs,\n",
    "    image_labels=val_labels,\n",
    "    encoding_map=encodings_pipeline,\n",
    "    path_labels_dict=dataset_labels_dict,\n",
    "    encoder=pipeline_with_pca,\n",
    "    k=5\n",
    ")\n",
    "print(\"Top-5 Accuracy, Pipeline:\", acc_k5_pipeline)"
   ],
   "id": "e5511937129cc4c8",
   "outputs": [],
   "execution_count": null
  },
  {
   "metadata": {},
   "cell_type": "markdown",
   "source": "### **5.2. Compute the mAP**",
   "id": "f4dce5e120d66eda"
  },
  {
   "metadata": {},
   "cell_type": "markdown",
   "source": [
    "How it works:\n",
    "- If `k` is given, we only consider the `top-k` ranked results per query.\n",
    "- if `k=None` or omitted, we consider all results (the entire dataset).\n",
    "- For each query, we compute average precision (AP). Then we average across all queries, yielding mean average precision (mAP).\n",
    "\n",
    "Example:\n",
    "Image `a` has label `1`, and the top-6 retrieved images have labels:\n",
    "- Truth Labels: [0, 1, 1, 0 ,0, 1]\n",
    "\n",
    "**a) k=None**: we consider all results.\n",
    "- Rank 2: AP = 1/2\n",
    "- Rank 3: AP = 2/3\n",
    "- Rank 6: AP = 3/6\n",
    "- mAP = (1/2 + 2/3 + 3/6) / 6 0.278\n",
    "\n",
    "**b) k=3**:\n",
    "- Rank 2: AP = 1/2\n",
    "- Rank 3: AP = 2/3\n",
    "- mAP = (1/2 + 2/3) / 3 = 0.389\n",
    "\n",
    "First, we do it for the whole dataset:"
   ],
   "id": "b2edbd7d5eebd301"
  },
  {
   "metadata": {},
   "cell_type": "code",
   "outputs": [],
   "execution_count": null,
   "source": [
    "mAP_value_vlad = top_k_map(\n",
    "    images=val_imgs,\n",
    "    image_labels=val_labels,\n",
    "    encoding_map=encodings_vlad,  # {path: vector}\n",
    "    path_labels_dict=dataset_labels_dict,    # {path: label}\n",
    "    encoder=vlad_encoder  # or vlad_encoder, fisher_encoder\n",
    ")\n",
    "print(\"Mean Average Precision (mAP), VLAD:\", mAP_value_vlad)"
   ],
   "id": "d1250e7005751359"
  },
  {
   "metadata": {},
   "cell_type": "code",
   "outputs": [],
   "execution_count": null,
   "source": [
    "mAP_value_fisher= top_k_map(\n",
    "    images=val_imgs,\n",
    "    image_labels=val_labels,\n",
    "    encoding_map=encodings_fisher,\n",
    "    path_labels_dict=dataset_labels_dict,\n",
    "    encoder=fisher_vector_encoder\n",
    ")\n",
    "print(\"Mean Average Precision (mAP), Fisher Vector:\", mAP_value_fisher)"
   ],
   "id": "919df4ea7657a495"
  },
  {
   "metadata": {},
   "cell_type": "code",
   "outputs": [],
   "execution_count": null,
   "source": [
    "mAP_value_pipeline = top_k_map(\n",
    "    images=val_imgs,\n",
    "    image_labels=val_labels,\n",
    "    encoding_map=encodings_pipeline,\n",
    "    path_labels_dict=dataset_labels_dict,\n",
    "    encoder=pipeline_with_pca\n",
    ")\n",
    "print(\"Mean Average Precision (mAP), Pipeline:\", mAP_value_pipeline)"
   ],
   "id": "68944964839a11c5"
  },
  {
   "metadata": {},
   "cell_type": "markdown",
   "source": "Normally, we might only care about the top results. Let's compute the mAP for the top 5 results:",
   "id": "ff0af2df9a03ed12"
  },
  {
   "metadata": {},
   "cell_type": "code",
   "outputs": [],
   "execution_count": null,
   "source": [
    "mAP_value_top5_vlad_pca = top_k_map(\n",
    "    images=val_imgs,\n",
    "    image_labels=val_labels,\n",
    "    encoding_map=encodings_vlad,\n",
    "    path_labels_dict=dataset_labels_dict,\n",
    "    encoder=vlad_encoder,\n",
    "    k=5\n",
    ")\n",
    "print(\"Mean Average Precision (mAP) for Top-5, VLAD:\", mAP_value_top5_vlad_pca)"
   ],
   "id": "2ae67e5962caaa8e"
  },
  {
   "metadata": {},
   "cell_type": "code",
   "outputs": [],
   "execution_count": null,
   "source": [
    "mAP_value_top5_fisher_pca = top_k_map(\n",
    "    images=val_imgs,\n",
    "    image_labels=val_labels,\n",
    "    encoding_map=encodings_fisher,\n",
    "    path_labels_dict=dataset_labels_dict,\n",
    "    encoder=fisher_vector_encoder,\n",
    "    k=5\n",
    ")\n",
    "print(\"Mean Average Precision (mAP) for Top-5, Fisher Vector:\", mAP_value_top5_fisher_pca)"
   ],
   "id": "b9f51195000ecb3f"
  },
  {
   "metadata": {},
   "cell_type": "code",
   "outputs": [],
   "execution_count": null,
   "source": [
    "mAP_value_top5_pipeline = top_k_map(\n",
    "    images=val_imgs,\n",
    "    image_labels=val_labels,\n",
    "    encoding_map=encodings_pipeline,\n",
    "    path_labels_dict=dataset_labels_dict,\n",
    "    encoder=pipeline_with_pca,\n",
    "    k=5\n",
    ")\n",
    "print(\"Mean Average Precision (mAP) for Top-5, Pipeline with PCA:\", mAP_value_top5_pipeline)"
   ],
   "id": "1d43e1d7a9881a9b"
  },
  {
   "metadata": {},
   "cell_type": "code",
   "outputs": [],
   "execution_count": null,
   "source": [
    "# TODO: Plot bar chart for mAP and top-k accuracy to compare the performance of the encoders.\n",
    "plot_and_save_barplot(\n",
    " {\n",
    "     \"VLAD\": [mAP_value_vlad, acc_k1_vlad, acc_k5_vlad],\n",
    "     \"Fisher Vector\": [mAP_value_fisher, acc_k1_fisher, acc_k5_fisher],\n",
    "     \"Pipeline\": [mAP_value_pipeline, acc_k1_pipeline, acc_k5_pipeline]\n",
    " },\n",
    "    bar_labels=[\"mAP\", \"Top-1 Accuracy\", \"Top-5 Accuracy\"],\n",
    "    title=\"Performance Metrics for VLAD, Fisher Vector, and Pipeline with PCA\",\n",
    "    ylabel=\"Value\",\n",
    "    xlabel=\"Metrics\")"
   ],
   "id": "10e00fd4d0a04d5e"
  }
 ],
 "metadata": {
  "kernelspec": {
   "display_name": "Python 3",
   "language": "python",
   "name": "python3"
  },
  "language_info": {
   "codemirror_mode": {
    "name": "ipython",
    "version": 2
   },
   "file_extension": ".py",
   "mimetype": "text/x-python",
   "name": "python",
   "nbconvert_exporter": "python",
   "pygments_lexer": "ipython2",
   "version": "2.7.6"
  }
 },
 "nbformat": 4,
 "nbformat_minor": 5
}

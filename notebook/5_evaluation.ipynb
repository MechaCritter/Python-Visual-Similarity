{
 "cells": [
  {
   "cell_type": "code",
   "id": "initial_id",
   "metadata": {
    "collapsed": true,
    "ExecuteTime": {
     "end_time": "2024-12-08T19:40:24.159608Z",
     "start_time": "2024-12-08T19:40:16.776250Z"
    }
   },
   "source": [
    "from dataclasses import dataclass, field\n",
    "import re\n",
    "\n",
    "import torch\n",
    "from piq import multi_scale_ssim as ms_ssim\n",
    "import numpy as np\n",
    "from sklearn.metrics.pairwise import cosine_similarity\n",
    "from sklearn.metrics import euclidean_distances\n",
    "import cv2\n",
    "import os\n",
    "import random\n",
    "import matplotlib.pyplot as plt\n",
    "from torch.nn.functional import one_hot\n",
    "\n",
    "from src.metrics import *\n",
    "from src.utils import *\n",
    "from src.datasets import ExcavatorDataset\n",
    "from src.config import TRANSFORMER, ROOT, DEVICE\n",
    "from models.Segmentation import DeepLabV3Model, DeepLabV3PlusModel, PyramidAttentionNetworkModel, UNetModel"
   ],
   "outputs": [],
   "execution_count": 1
  },
  {
   "metadata": {
    "ExecuteTime": {
     "end_time": "2024-12-08T19:40:52.572657Z",
     "start_time": "2024-12-08T19:40:24.159608Z"
    }
   },
   "cell_type": "code",
   "source": [
    "train_dataset = ExcavatorDataset(return_type='image+mask+path', purpose='train', plot=False)\n",
    "train_paths = [os.path.basename(path) for *_, path in train_dataset]\n",
    "val_dataset = ExcavatorDataset(return_type='image+mask+path', purpose='validation', plot=False)\n",
    "val_paths = [os.path.basename(path) for *_, path in val_dataset]\n",
    "cls_colors = train_dataset.class_colors"
   ],
   "id": "653e9b54296f7ed7",
   "outputs": [
    {
     "name": "stderr",
     "output_type": "stream",
     "text": [
      "C:\\Users\\vunha\\Documents\\Uni_Infos\\Bachelorarbeit\\workspace\\similarity_metrics_of_images\\src\\datasets.py:313: UserWarning: To copy construct from a tensor, it is recommended to use sourceTensor.clone().detach() or sourceTensor.clone().detach().requires_grad_(True), rather than torch.tensor(sourceTensor).\n",
      "  key: torch.tensor(value / 255.0, dtype=torch.float32)\n"
     ]
    }
   ],
   "execution_count": 2
  },
  {
   "metadata": {},
   "cell_type": "markdown",
   "source": "# Load IoUs",
   "id": "6554f847ddc1f18a"
  },
  {
   "metadata": {
    "ExecuteTime": {
     "end_time": "2024-12-08T19:40:53.896454Z",
     "start_time": "2024-12-08T19:40:52.773922Z"
    }
   },
   "cell_type": "code",
   "source": [
    "# DeepLabV3\n",
    "dlv3 =DeepLabV3Model(model_path=f'{ROOT}/models/torch_model_files/DeepLabV3_HybridFocalDiceLoss.pt')\n",
    "\n",
    "# DeepLabV3Plus\n",
    "dlv3p = DeepLabV3PlusModel(model_path=f'{ROOT}/models/torch_model_files/DeepLabV3Plus_HybridFocalDiceLoss.pt')\n",
    "\n",
    "# UNet\n",
    "unet = UNetModel(model_path=f'{ROOT}/models/torch_model_files/UNet_HybridFocalDiceLoss.pt')\n",
    "\n",
    "# Pyramid Attention Network\n",
    "pan = PyramidAttentionNetworkModel(model_path=f'{ROOT}/models/torch_model_files/PyramidAttentionNetwork_HybridFocalDiceLoss.pt')\n",
    "\n",
    "# Pass a model to its corresponding ioU file\n",
    "iou_paths = {\n",
    "    dlv3: {\n",
    "        'train': f'{ROOT}/res/model_performance/train_iou_dlv3.h5',\n",
    "        'val': f'{ROOT}/res/model_performance/val_iou_dlv3.h5'\n",
    "    },\n",
    "    dlv3p: {\n",
    "        'train': f'{ROOT}/res/model_performance/train_iou_dlv3p.h5',\n",
    "        'val': f'{ROOT}/res/model_performance/val_iou_dlv3p.h5'\n",
    "    },\n",
    "    unet: {\n",
    "        'train': f'{ROOT}/res/model_performance/train_iou_unet.h5',\n",
    "        'val': f'{ROOT}/res/model_performance/val_iou_unet.h5'\n",
    "    },\n",
    "    pan: {\n",
    "        'train': f'{ROOT}/res/model_performance/train_iou_pan.h5',\n",
    "        'val': f'{ROOT}/res/model_performance/val_iou_pan.h5'\n",
    "    }\n",
    "}"
   ],
   "id": "59e5f8ebe11b7ce9",
   "outputs": [
    {
     "name": "stdout",
     "output_type": "stream",
     "text": [
      "2024-12-08 20:40:53,135 - DeepLabV3 - INFO - Device used for model: cuda\n",
      "2024-12-08 20:40:53,354 - DeepLabV3Plus - INFO - Device used for model: cuda\n",
      "2024-12-08 20:40:53,624 - UNet - INFO - Device used for model: cuda\n",
      "2024-12-08 20:40:53,881 - PyramidAttentionNetwork - INFO - Device used for model: cuda\n"
     ]
    }
   ],
   "execution_count": 3
  },
  {
   "metadata": {},
   "cell_type": "markdown",
   "source": "",
   "id": "3871931256a24ccf"
  },
  {
   "metadata": {},
   "cell_type": "markdown",
   "source": "# 1. VLAD",
   "id": "d137182733680a6a"
  },
  {
   "metadata": {
    "jupyter": {
     "is_executing": true
    },
    "ExecuteTime": {
     "start_time": "2024-12-08T19:44:23.118581Z"
    }
   },
   "cell_type": "code",
   "source": [
    "k_means_models = [\n",
    "    model for model in os.listdir(rf'{ROOT}/models/pickle_model_files') if 'k_means' in model\n",
    "]\n",
    "\n",
    "for seg_models in iou_paths:\n",
    "    model_name = seg_models.model.__class__.__name__\n",
    "    iou_train = load_hdf5(iou_paths[seg_models]['train'])\n",
    "    iou_val = load_hdf5(iou_paths[seg_models]['val'])\n",
    "    for model in k_means_models:\n",
    "        k_model = model.replace('.pkl', '')\n",
    "        similarity_scores = []\n",
    "        euclidean_similarity = []\n",
    "        iou_diff = []\n",
    "        train_vlad_data = load_hdf5(f'{ROOT}/res/vlad/train/{model[:-4]}.h5')\n",
    "        val_vlad_data = load_hdf5(f'{ROOT}/res/vlad/validation/{model[:-4]}.h5')\n",
    "        for train_path in train_paths:\n",
    "            for val_path in val_paths:\n",
    "                vlad_1 = train_vlad_data[train_path]\n",
    "                vlad_2 = val_vlad_data[val_path]\n",
    "                similarity_scores.append(cosine_similarity([vlad_1], [vlad_2])[0][0])\n",
    "                euclidean_similarity.append(1.0 / (1.0 + euclidean_distances([vlad_1], [vlad_2])[0][0]))\n",
    "                iou_train_img = iou_train[train_path]\n",
    "                iou_val_img = iou_val[val_path]\n",
    "                iou_diff.append(abs(iou_train_img - iou_val_img))\n",
    "        plot_boxplot_with_regression(y=np.array(similarity_scores),\n",
    "                                     x=np.array(iou_diff),\n",
    "                                     x_lim=(0, 1),\n",
    "                                     y_lim=(-1, 1),\n",
    "                                     num_bins=15,\n",
    "                                     title=f\"{model_name} vs {k_model} - IoU diff vs Similarity\",\n",
    "                                     y_label=\"Similarity Score\",\n",
    "                                     x_label=\"IoU Difference\",\n",
    "                                     save_fig_path=f\"{ROOT}/res/plots/vlad/{model_name}_{k_model}_iou_vs_similarity.png\")\n",
    "        plot_scatter_with_regression(y=np.array(similarity_scores),\n",
    "                                     x=np.array(iou_diff),\n",
    "                                     x_lim=(0, 1),\n",
    "                                        y_lim=(-1, 1),\n",
    "                                        title=f\"{model_name} vs {k_model} - IoU diff vs Similarity\",\n",
    "                                        y_label=\"Similarity Score\",\n",
    "                                        x_label=\"IoU Difference\",\n",
    "                                        save_fig_path=f\"{ROOT}/res/plots/vlad/{model_name}_{k_model}_iou_vs_similarity_scatter.png\")\n",
    "        plot_boxplot_with_regression(y=np.array(euclidean_similarity),\n",
    "                                        x=np.array(iou_diff),\n",
    "                                        x_lim=(0, 1),\n",
    "                                        y_lim=(min(euclidean_similarity), max(euclidean_similarity)),\n",
    "                                        num_bins=15,\n",
    "                                        title=f\"{model_name} vs {k_model} - IoU diff vs Euclidean Similarity\",\n",
    "                                        y_label=\"Similarity Score\",\n",
    "                                        x_label=\"IoU Difference\",\n",
    "                                        save_fig_path=f\"{ROOT}/res/plots/vlad/{model_name}_{k_model}_iou_vs_euclidean_similarity.png\")\n",
    "        plot_scatter_with_regression(y=np.array(euclidean_similarity),\n",
    "                                        x=np.array(iou_diff),\n",
    "                                        x_lim=(0, 1),\n",
    "                                        y_lim=(min(euclidean_similarity), max(euclidean_similarity)),\n",
    "                                        title=f\"{model_name} vs {k_model} - IoU diff vs Euclidean Similarity\",\n",
    "                                        y_label=\"Similarity Score\",\n",
    "                                        x_label=\"IoU Difference\",\n",
    "                                        save_fig_path=f\"{ROOT}/res/plots/vlad/{model_name}_{k_model}_iou_vs_euclidean_similarity_scatter.png\")\n",
    "\n",
    "\n",
    "\n"
   ],
   "id": "16e7550e1ab601b6",
   "outputs": [],
   "execution_count": null
  },
  {
   "metadata": {},
   "cell_type": "markdown",
   "source": "# 2. Fisher Vector",
   "id": "ca6b4522e19e7afd"
  },
  {
   "metadata": {},
   "cell_type": "code",
   "source": [
    "gmm_models = [\n",
    "    model for model in os.listdir(rf'{ROOT}/models/pickle_model_files') if 'gmm' in model\n",
    "]\n",
    "\n",
    "\n",
    "for seg_models in iou_paths:\n",
    "    model_name = seg_models.model.__class__.__name__\n",
    "    iou_train = load_hdf5(iou_paths[seg_models]['train'])\n",
    "    iou_val = load_hdf5(iou_paths[seg_models]['val'])\n",
    "    for model in gmm_models:\n",
    "        g_model = model.replace('.pkl', '')\n",
    "        similarity_scores = []\n",
    "        euclidean_similarity = []\n",
    "        iou_diff = []\n",
    "        train_fisher_data = load_hdf5(f'{ROOT}/res/fisher/train/{model[:-4]}.h5')\n",
    "        val_fisher_data = load_hdf5(f'{ROOT}/res/fisher/validation/{model[:-4]}.h5')\n",
    "        for train_path in train_paths:\n",
    "            for val_path in val_paths:\n",
    "                fisher_1 = train_fisher_data[train_path]\n",
    "                fisher_2 = val_fisher_data[val_path]\n",
    "                similarity_scores.append(cosine_similarity([fisher_1], [fisher_2])[0][0])\n",
    "                euclidean_similarity.append(1.0 / (1.0 + euclidean_distances([fisher_1], [fisher_2])[0][0]))\n",
    "                iou_train_img = iou_train[train_path]\n",
    "                iou_val_img = iou_val[val_path]\n",
    "                iou_diff.append(abs(iou_train_img - iou_val_img))\n",
    "        plot_boxplot_with_regression(y=np.array(similarity_scores),\n",
    "                                     x=np.array(iou_diff),\n",
    "                                     x_lim=(0, 1),\n",
    "                                     y_lim=(-1, 1),\n",
    "                                     num_bins=15,\n",
    "                                     title=f\"{model_name} vs {g_model} - IoU diff vs Similarity\",\n",
    "                                     y_label=\"Similarity Score\",\n",
    "                                     x_label=\"IoU Difference\",\n",
    "                                     save_fig_path=f\"{ROOT}/res/plots/fisher/{model_name}_{g_model}_iou_vs_similarity.png\")\n",
    "        plot_scatter_with_regression(y=np.array(similarity_scores),\n",
    "                                     x=np.array(iou_diff),\n",
    "                                     x_lim=(0, 1),\n",
    "                                        y_lim=(-1, 1),\n",
    "                                        title=f\"{model_name} vs {g_model} - IoU diff vs Similarity\",\n",
    "                                        y_label=\"Similarity Score\",\n",
    "                                        x_label=\"IoU Difference\",\n",
    "                                        save_fig_path=f\"{ROOT}/res/plots/fisher/{model_name}_{g_model}_iou_vs_similarity_scatter.png\")\n",
    "        plot_boxplot_with_regression(y=np.array(euclidean_similarity),\n",
    "                                        x=np.array(iou_diff),\n",
    "                                        x_lim=(0, 1),\n",
    "                                        y_lim=(min(euclidean_similarity), max(euclidean_similarity)),\n",
    "                                        num_bins=15,\n",
    "                                        title=f\"{model_name} vs {g_model} - IoU diff vs Euclidean Similarity\",\n",
    "                                        y_label=\"Similarity Score\",\n",
    "                                        x_label=\"IoU Difference\",\n",
    "                                        save_fig_path=f\"{ROOT}/res/plots/fisher/{model_name}_{g_model}_iou_vs_euclidean_similarity.png\")\n",
    "        plot_scatter_with_regression(y=np.array(euclidean_similarity),\n",
    "                                        x=np.array(iou_diff),\n",
    "                                        x_lim=(0, 1),\n",
    "                                        y_lim=(min(euclidean_similarity), max(euclidean_similarity)),\n",
    "                                        title=f\"{model_name} vs {g_model} - IoU diff vs Euclidean Similarity\",\n",
    "                                        y_label=\"Similarity Score\",\n",
    "                                        x_label=\"IoU Difference\",\n",
    "                                        save_fig_path=f\"{ROOT}/res/plots/fisher/{model_name}_{g_model}_iou_vs_euclidean_similarity_scatter.png\")\n",
    "\n",
    "\n"
   ],
   "id": "6c4c685315d4b357",
   "outputs": [],
   "execution_count": null
  },
  {
   "metadata": {
    "ExecuteTime": {
     "end_time": "2024-12-08T18:22:21.508787Z",
     "start_time": "2024-12-08T18:22:21.242023Z"
    }
   },
   "cell_type": "code",
   "source": [
    "train_dataset_transformed = ExcavatorDataset(return_type='image+mask+path', purpose='train', plot=False, transform=TRANSFORMER)\n",
    "val_dataset_transformed = ExcavatorDataset(return_type='image+mask+path', purpose='validation', plot=False, transform=TRANSFORMER)"
   ],
   "id": "99efed02bd315ef4",
   "outputs": [
    {
     "name": "stderr",
     "output_type": "stream",
     "text": [
      "C:\\Users\\vunha\\Documents\\Uni_Infos\\Bachelorarbeit\\workspace\\similarity_metrics_of_images\\src\\datasets.py:313: UserWarning: To copy construct from a tensor, it is recommended to use sourceTensor.clone().detach() or sourceTensor.clone().detach().requires_grad_(True), rather than torch.tensor(sourceTensor).\n",
      "  key: torch.tensor(value / 255.0, dtype=torch.float32)\n"
     ]
    }
   ],
   "execution_count": 5
  },
  {
   "metadata": {},
   "cell_type": "markdown",
   "source": "# Transform datasets for SSIM and MS-SSIM",
   "id": "6a31d4f3e87bcdab"
  },
  {
   "metadata": {},
   "cell_type": "markdown",
   "source": "# 3. SSIM",
   "id": "178110f490b5adce"
  },
  {
   "metadata": {
    "ExecuteTime": {
     "end_time": "2024-12-08T19:39:27.572954Z",
     "start_time": "2024-12-08T19:31:35.977309Z"
    }
   },
   "cell_type": "code",
   "source": [
    "for seg_models in iou_paths:\n",
    "    model_name = seg_models.model.__class__.__name__\n",
    "    iou_train = load_hdf5(iou_paths[seg_models]['train'])\n",
    "    iou_val = load_hdf5(iou_paths[seg_models]['val'])\n",
    "    ssim_scores = []\n",
    "    iou_diff = []\n",
    "\n",
    "    for train_img, *_, train_path in train_dataset_transformed:\n",
    "        for j, (val_img, *_, val_path) in enumerate(val_dataset_transformed):\n",
    "            ssim_scores.append(ssim(train_img.unsqueeze(0), val_img.unsqueeze(0)).cpu().numpy())\n",
    "            iou_train_img = iou_train[os.path.basename(train_path)]\n",
    "            iou_val_img = iou_val[os.path.basename(val_path)]\n",
    "            iou_diff.append(abs(iou_train_img - iou_val_img))\n",
    "            if j == 10:\n",
    "                break\n",
    "    plot_boxplot_with_regression(y=np.array(ssim_scores),\n",
    "                                 x=np.array(iou_diff),\n",
    "                                 x_lim=(0, 1),\n",
    "                                 y_lim=(-1, 1),\n",
    "                                 num_bins=15,\n",
    "                                 title=f\"{model_name} - IoU diff vs SSIM\",\n",
    "                                 y_label=\"SSIM Score\",\n",
    "                                 x_label=\"IoU Difference\",\n",
    "                                 save_fig_path=f\"{ROOT}/res/plots/ssim/{model_name}_iou_vs_ssim.png\")\n",
    "    plot_scatter_with_regression(y=np.array(ssim_scores),\n",
    "                                    x=np.array(iou_diff),\n",
    "                                    x_lim=(0, 1),\n",
    "                                    y_lim=(-1, 1),\n",
    "                                    title=f\"{model_name} - IoU diff vs SSIM\",\n",
    "                                    y_label=\"SSIM Score\",\n",
    "                                    x_label=\"IoU Difference\",\n",
    "                                    save_fig_path=f\"{ROOT}/res/plots/ssim/{model_name}_iou_vs_ssim_scatter.png\")"
   ],
   "id": "90ef3a081596f779",
   "outputs": [
    {
     "ename": "KeyboardInterrupt",
     "evalue": "",
     "output_type": "error",
     "traceback": [
      "\u001B[1;31m---------------------------------------------------------------------------\u001B[0m",
      "\u001B[1;31mKeyboardInterrupt\u001B[0m                         Traceback (most recent call last)",
      "Cell \u001B[1;32mIn[22], line 10\u001B[0m\n\u001B[0;32m      8\u001B[0m \u001B[38;5;28;01mfor\u001B[39;00m train_img, \u001B[38;5;241m*\u001B[39m_, train_path \u001B[38;5;129;01min\u001B[39;00m train_dataset_transformed:\n\u001B[0;32m      9\u001B[0m     \u001B[38;5;28;01mfor\u001B[39;00m j, (val_img, \u001B[38;5;241m*\u001B[39m_, val_path) \u001B[38;5;129;01min\u001B[39;00m \u001B[38;5;28menumerate\u001B[39m(val_dataset_transformed):\n\u001B[1;32m---> 10\u001B[0m         ssim_scores\u001B[38;5;241m.\u001B[39mappend(\u001B[43mssim\u001B[49m\u001B[43m(\u001B[49m\u001B[43mtrain_img\u001B[49m\u001B[38;5;241;43m.\u001B[39;49m\u001B[43munsqueeze\u001B[49m\u001B[43m(\u001B[49m\u001B[38;5;241;43m0\u001B[39;49m\u001B[43m)\u001B[49m\u001B[43m,\u001B[49m\u001B[43m \u001B[49m\u001B[43mval_img\u001B[49m\u001B[38;5;241;43m.\u001B[39;49m\u001B[43munsqueeze\u001B[49m\u001B[43m(\u001B[49m\u001B[38;5;241;43m0\u001B[39;49m\u001B[43m)\u001B[49m\u001B[43m)\u001B[49m\u001B[38;5;241m.\u001B[39mcpu()\u001B[38;5;241m.\u001B[39mnumpy())\n\u001B[0;32m     11\u001B[0m         iou_train_img \u001B[38;5;241m=\u001B[39m iou_train[os\u001B[38;5;241m.\u001B[39mpath\u001B[38;5;241m.\u001B[39mbasename(train_path)]\n\u001B[0;32m     12\u001B[0m         iou_val_img \u001B[38;5;241m=\u001B[39m iou_val[os\u001B[38;5;241m.\u001B[39mpath\u001B[38;5;241m.\u001B[39mbasename(val_path)]\n",
      "File \u001B[1;32m~\\anaconda3\\envs\\conda_env\\Lib\\site-packages\\piq\\ssim.py:66\u001B[0m, in \u001B[0;36mssim\u001B[1;34m(x, y, kernel_size, kernel_sigma, data_range, reduction, full, downsample, k1, k2)\u001B[0m\n\u001B[0;32m     64\u001B[0m kernel \u001B[38;5;241m=\u001B[39m gaussian_filter(kernel_size, kernel_sigma, device\u001B[38;5;241m=\u001B[39mx\u001B[38;5;241m.\u001B[39mdevice, dtype\u001B[38;5;241m=\u001B[39mx\u001B[38;5;241m.\u001B[39mdtype)\u001B[38;5;241m.\u001B[39mrepeat(x\u001B[38;5;241m.\u001B[39msize(\u001B[38;5;241m1\u001B[39m), \u001B[38;5;241m1\u001B[39m, \u001B[38;5;241m1\u001B[39m, \u001B[38;5;241m1\u001B[39m)\n\u001B[0;32m     65\u001B[0m _compute_ssim_per_channel \u001B[38;5;241m=\u001B[39m _ssim_per_channel_complex \u001B[38;5;28;01mif\u001B[39;00m x\u001B[38;5;241m.\u001B[39mdim() \u001B[38;5;241m==\u001B[39m \u001B[38;5;241m5\u001B[39m \u001B[38;5;28;01melse\u001B[39;00m _ssim_per_channel\n\u001B[1;32m---> 66\u001B[0m ssim_map, cs_map \u001B[38;5;241m=\u001B[39m \u001B[43m_compute_ssim_per_channel\u001B[49m\u001B[43m(\u001B[49m\u001B[43mx\u001B[49m\u001B[38;5;241;43m=\u001B[39;49m\u001B[43mx\u001B[49m\u001B[43m,\u001B[49m\u001B[43m \u001B[49m\u001B[43my\u001B[49m\u001B[38;5;241;43m=\u001B[39;49m\u001B[43my\u001B[49m\u001B[43m,\u001B[49m\u001B[43m \u001B[49m\u001B[43mkernel\u001B[49m\u001B[38;5;241;43m=\u001B[39;49m\u001B[43mkernel\u001B[49m\u001B[43m,\u001B[49m\u001B[43m \u001B[49m\u001B[43mdata_range\u001B[49m\u001B[38;5;241;43m=\u001B[39;49m\u001B[43mdata_range\u001B[49m\u001B[43m,\u001B[49m\u001B[43m \u001B[49m\u001B[43mk1\u001B[49m\u001B[38;5;241;43m=\u001B[39;49m\u001B[43mk1\u001B[49m\u001B[43m,\u001B[49m\u001B[43m \u001B[49m\u001B[43mk2\u001B[49m\u001B[38;5;241;43m=\u001B[39;49m\u001B[43mk2\u001B[49m\u001B[43m)\u001B[49m\n\u001B[0;32m     67\u001B[0m ssim_val \u001B[38;5;241m=\u001B[39m ssim_map\u001B[38;5;241m.\u001B[39mmean(\u001B[38;5;241m1\u001B[39m)\n\u001B[0;32m     68\u001B[0m cs \u001B[38;5;241m=\u001B[39m cs_map\u001B[38;5;241m.\u001B[39mmean(\u001B[38;5;241m1\u001B[39m)\n",
      "File \u001B[1;32m~\\anaconda3\\envs\\conda_env\\Lib\\site-packages\\piq\\ssim.py:196\u001B[0m, in \u001B[0;36m_ssim_per_channel\u001B[1;34m(x, y, kernel, data_range, k1, k2)\u001B[0m\n\u001B[0;32m    194\u001B[0m c2 \u001B[38;5;241m=\u001B[39m k2 \u001B[38;5;241m*\u001B[39m\u001B[38;5;241m*\u001B[39m \u001B[38;5;241m2\u001B[39m\n\u001B[0;32m    195\u001B[0m n_channels \u001B[38;5;241m=\u001B[39m x\u001B[38;5;241m.\u001B[39msize(\u001B[38;5;241m1\u001B[39m)\n\u001B[1;32m--> 196\u001B[0m mu_x \u001B[38;5;241m=\u001B[39m \u001B[43mF\u001B[49m\u001B[38;5;241;43m.\u001B[39;49m\u001B[43mconv2d\u001B[49m\u001B[43m(\u001B[49m\u001B[43mx\u001B[49m\u001B[43m,\u001B[49m\u001B[43m \u001B[49m\u001B[43mweight\u001B[49m\u001B[38;5;241;43m=\u001B[39;49m\u001B[43mkernel\u001B[49m\u001B[43m,\u001B[49m\u001B[43m \u001B[49m\u001B[43mstride\u001B[49m\u001B[38;5;241;43m=\u001B[39;49m\u001B[38;5;241;43m1\u001B[39;49m\u001B[43m,\u001B[49m\u001B[43m \u001B[49m\u001B[43mpadding\u001B[49m\u001B[38;5;241;43m=\u001B[39;49m\u001B[38;5;241;43m0\u001B[39;49m\u001B[43m,\u001B[49m\u001B[43m \u001B[49m\u001B[43mgroups\u001B[49m\u001B[38;5;241;43m=\u001B[39;49m\u001B[43mn_channels\u001B[49m\u001B[43m)\u001B[49m\n\u001B[0;32m    197\u001B[0m mu_y \u001B[38;5;241m=\u001B[39m F\u001B[38;5;241m.\u001B[39mconv2d(y, weight\u001B[38;5;241m=\u001B[39mkernel, stride\u001B[38;5;241m=\u001B[39m\u001B[38;5;241m1\u001B[39m, padding\u001B[38;5;241m=\u001B[39m\u001B[38;5;241m0\u001B[39m, groups\u001B[38;5;241m=\u001B[39mn_channels)\n\u001B[0;32m    199\u001B[0m mu_xx \u001B[38;5;241m=\u001B[39m mu_x \u001B[38;5;241m*\u001B[39m\u001B[38;5;241m*\u001B[39m \u001B[38;5;241m2\u001B[39m\n",
      "\u001B[1;31mKeyboardInterrupt\u001B[0m: "
     ]
    }
   ],
   "execution_count": 22
  },
  {
   "metadata": {},
   "cell_type": "markdown",
   "source": "# 4. MS-SSIM",
   "id": "58e9eef488a3fc65"
  },
  {
   "metadata": {
    "ExecuteTime": {
     "end_time": "2024-12-08T19:31:30.894676Z",
     "start_time": "2024-12-08T19:29:58.802731Z"
    }
   },
   "cell_type": "code",
   "source": [
    "for seg_models in iou_paths:\n",
    "    model_name = seg_models.model.__class__.__name__\n",
    "    iou_train = load_hdf5(iou_paths[seg_models]['train'])\n",
    "    iou_val = load_hdf5(iou_paths[seg_models]['val'])\n",
    "    mssim_scores = []\n",
    "    iou_diff = []\n",
    "\n",
    "    for train_img, *_, train_path in train_dataset_transformed:\n",
    "        for j, (val_img, *_, val_path) in enumerate(val_dataset_transformed):\n",
    "            mssim_scores.append(ms_ssim(train_img.unsqueeze(0), val_img.unsqueeze(0)).cpu().numpy())\n",
    "            iou_train_img = iou_train[os.path.basename(train_path)]\n",
    "            iou_val_img = iou_val[os.path.basename(val_path)]\n",
    "            iou_diff.append(abs(iou_train_img - iou_val_img))\n",
    "            if j == 10:\n",
    "                break\n",
    "    plot_boxplot_with_regression(y=np.array(mssim_scores),\n",
    "                                 x=np.array(iou_diff),\n",
    "                                 x_lim=(0, 1),\n",
    "                                 y_lim=(-1, 1),\n",
    "                                 num_bins=15,\n",
    "                                 title=f\"{model_name} - IoU diff vs MS-SSIM\",\n",
    "                                 y_label=\"MS-SSIM Score\",\n",
    "                                 x_label=\"IoU Difference\",\n",
    "                                 save_fig_path=f\"{ROOT}/res/plots/mssim/{model_name}_iou_vs_mssim.png\")\n",
    "    plot_scatter_with_regression(y=np.array(mssim_scores),\n",
    "                                    x=np.array(iou_diff),\n",
    "                                    x_lim=(0, 1),\n",
    "                                    y_lim=(-1, 1),\n",
    "                                    title=f\"{model_name} - IoU diff vs MS-SSIM\",\n",
    "                                    y_label=\"MS-SSIM Score\",\n",
    "                                    x_label=\"IoU Difference\",\n",
    "                                    save_fig_path=f\"{ROOT}/res/plots/ms_sim/{model_name}_iou_vs_mssim_scatter.png\")"
   ],
   "id": "4aa801def5a0853f",
   "outputs": [
    {
     "ename": "KeyboardInterrupt",
     "evalue": "",
     "output_type": "error",
     "traceback": [
      "\u001B[1;31m---------------------------------------------------------------------------\u001B[0m",
      "\u001B[1;31mKeyboardInterrupt\u001B[0m                         Traceback (most recent call last)",
      "Cell \u001B[1;32mIn[21], line 10\u001B[0m\n\u001B[0;32m      8\u001B[0m \u001B[38;5;28;01mfor\u001B[39;00m train_img, \u001B[38;5;241m*\u001B[39m_, train_path \u001B[38;5;129;01min\u001B[39;00m train_dataset_transformed:\n\u001B[0;32m      9\u001B[0m     \u001B[38;5;28;01mfor\u001B[39;00m j, (val_img, \u001B[38;5;241m*\u001B[39m_, val_path) \u001B[38;5;129;01min\u001B[39;00m \u001B[38;5;28menumerate\u001B[39m(val_dataset_transformed):\n\u001B[1;32m---> 10\u001B[0m         mssim_scores\u001B[38;5;241m.\u001B[39mappend(\u001B[43mms_ssim\u001B[49m\u001B[43m(\u001B[49m\u001B[43mtrain_img\u001B[49m\u001B[38;5;241;43m.\u001B[39;49m\u001B[43munsqueeze\u001B[49m\u001B[43m(\u001B[49m\u001B[38;5;241;43m0\u001B[39;49m\u001B[43m)\u001B[49m\u001B[43m,\u001B[49m\u001B[43m \u001B[49m\u001B[43mval_img\u001B[49m\u001B[38;5;241;43m.\u001B[39;49m\u001B[43munsqueeze\u001B[49m\u001B[43m(\u001B[49m\u001B[38;5;241;43m0\u001B[39;49m\u001B[43m)\u001B[49m\u001B[43m)\u001B[49m\u001B[38;5;241m.\u001B[39mcpu()\u001B[38;5;241m.\u001B[39mnumpy())\n\u001B[0;32m     11\u001B[0m         iou_train_img \u001B[38;5;241m=\u001B[39m iou_train[os\u001B[38;5;241m.\u001B[39mpath\u001B[38;5;241m.\u001B[39mbasename(train_path)]\n\u001B[0;32m     12\u001B[0m         iou_val_img \u001B[38;5;241m=\u001B[39m iou_val[os\u001B[38;5;241m.\u001B[39mpath\u001B[38;5;241m.\u001B[39mbasename(val_path)]\n",
      "File \u001B[1;32m~\\anaconda3\\envs\\conda_env\\Lib\\site-packages\\piq\\ms_ssim.py:78\u001B[0m, in \u001B[0;36mmulti_scale_ssim\u001B[1;34m(x, y, kernel_size, kernel_sigma, data_range, reduction, scale_weights, k1, k2)\u001B[0m\n\u001B[0;32m     75\u001B[0m kernel \u001B[38;5;241m=\u001B[39m gaussian_filter(kernel_size, kernel_sigma, device\u001B[38;5;241m=\u001B[39mx\u001B[38;5;241m.\u001B[39mdevice, dtype\u001B[38;5;241m=\u001B[39mx\u001B[38;5;241m.\u001B[39mdtype)\u001B[38;5;241m.\u001B[39mrepeat(x\u001B[38;5;241m.\u001B[39msize(\u001B[38;5;241m1\u001B[39m), \u001B[38;5;241m1\u001B[39m, \u001B[38;5;241m1\u001B[39m, \u001B[38;5;241m1\u001B[39m)\n\u001B[0;32m     77\u001B[0m _compute_msssim \u001B[38;5;241m=\u001B[39m _multi_scale_ssim_complex \u001B[38;5;28;01mif\u001B[39;00m x\u001B[38;5;241m.\u001B[39mdim() \u001B[38;5;241m==\u001B[39m \u001B[38;5;241m5\u001B[39m \u001B[38;5;28;01melse\u001B[39;00m _multi_scale_ssim\n\u001B[1;32m---> 78\u001B[0m msssim_val \u001B[38;5;241m=\u001B[39m \u001B[43m_compute_msssim\u001B[49m\u001B[43m(\u001B[49m\n\u001B[0;32m     79\u001B[0m \u001B[43m    \u001B[49m\u001B[43mx\u001B[49m\u001B[38;5;241;43m=\u001B[39;49m\u001B[43mx\u001B[49m\u001B[43m,\u001B[49m\n\u001B[0;32m     80\u001B[0m \u001B[43m    \u001B[49m\u001B[43my\u001B[49m\u001B[38;5;241;43m=\u001B[39;49m\u001B[43my\u001B[49m\u001B[43m,\u001B[49m\n\u001B[0;32m     81\u001B[0m \u001B[43m    \u001B[49m\u001B[43mdata_range\u001B[49m\u001B[38;5;241;43m=\u001B[39;49m\u001B[43mdata_range\u001B[49m\u001B[43m,\u001B[49m\n\u001B[0;32m     82\u001B[0m \u001B[43m    \u001B[49m\u001B[43mkernel\u001B[49m\u001B[38;5;241;43m=\u001B[39;49m\u001B[43mkernel\u001B[49m\u001B[43m,\u001B[49m\n\u001B[0;32m     83\u001B[0m \u001B[43m    \u001B[49m\u001B[43mscale_weights\u001B[49m\u001B[38;5;241;43m=\u001B[39;49m\u001B[43mscale_weights\u001B[49m\u001B[43m,\u001B[49m\n\u001B[0;32m     84\u001B[0m \u001B[43m    \u001B[49m\u001B[43mk1\u001B[49m\u001B[38;5;241;43m=\u001B[39;49m\u001B[43mk1\u001B[49m\u001B[43m,\u001B[49m\n\u001B[0;32m     85\u001B[0m \u001B[43m    \u001B[49m\u001B[43mk2\u001B[49m\u001B[38;5;241;43m=\u001B[39;49m\u001B[43mk2\u001B[49m\n\u001B[0;32m     86\u001B[0m \u001B[43m\u001B[49m\u001B[43m)\u001B[49m\n\u001B[0;32m     87\u001B[0m \u001B[38;5;28;01mreturn\u001B[39;00m _reduce(msssim_val, reduction)\n",
      "File \u001B[1;32m~\\anaconda3\\envs\\conda_env\\Lib\\site-packages\\piq\\ms_ssim.py:226\u001B[0m, in \u001B[0;36m_multi_scale_ssim\u001B[1;34m(x, y, data_range, kernel, scale_weights, k1, k2)\u001B[0m\n\u001B[0;32m    223\u001B[0m         x \u001B[38;5;241m=\u001B[39m F\u001B[38;5;241m.\u001B[39mavg_pool2d(x, kernel_size\u001B[38;5;241m=\u001B[39m\u001B[38;5;241m2\u001B[39m, padding\u001B[38;5;241m=\u001B[39m\u001B[38;5;241m0\u001B[39m)\n\u001B[0;32m    224\u001B[0m         y \u001B[38;5;241m=\u001B[39m F\u001B[38;5;241m.\u001B[39mavg_pool2d(y, kernel_size\u001B[38;5;241m=\u001B[39m\u001B[38;5;241m2\u001B[39m, padding\u001B[38;5;241m=\u001B[39m\u001B[38;5;241m0\u001B[39m)\n\u001B[1;32m--> 226\u001B[0m     ssim_val, cs \u001B[38;5;241m=\u001B[39m \u001B[43m_ssim_per_channel\u001B[49m\u001B[43m(\u001B[49m\u001B[43mx\u001B[49m\u001B[43m,\u001B[49m\u001B[43m \u001B[49m\u001B[43my\u001B[49m\u001B[43m,\u001B[49m\u001B[43m \u001B[49m\u001B[43mkernel\u001B[49m\u001B[38;5;241;43m=\u001B[39;49m\u001B[43mkernel\u001B[49m\u001B[43m,\u001B[49m\u001B[43m \u001B[49m\u001B[43mdata_range\u001B[49m\u001B[38;5;241;43m=\u001B[39;49m\u001B[43mdata_range\u001B[49m\u001B[43m,\u001B[49m\u001B[43m \u001B[49m\u001B[43mk1\u001B[49m\u001B[38;5;241;43m=\u001B[39;49m\u001B[43mk1\u001B[49m\u001B[43m,\u001B[49m\u001B[43m \u001B[49m\u001B[43mk2\u001B[49m\u001B[38;5;241;43m=\u001B[39;49m\u001B[43mk2\u001B[49m\u001B[43m)\u001B[49m\n\u001B[0;32m    227\u001B[0m     mcs\u001B[38;5;241m.\u001B[39mappend(cs)\n\u001B[0;32m    229\u001B[0m \u001B[38;5;66;03m# mcs, (level, batch)\u001B[39;00m\n",
      "File \u001B[1;32m~\\anaconda3\\envs\\conda_env\\Lib\\site-packages\\piq\\ssim.py:196\u001B[0m, in \u001B[0;36m_ssim_per_channel\u001B[1;34m(x, y, kernel, data_range, k1, k2)\u001B[0m\n\u001B[0;32m    194\u001B[0m c2 \u001B[38;5;241m=\u001B[39m k2 \u001B[38;5;241m*\u001B[39m\u001B[38;5;241m*\u001B[39m \u001B[38;5;241m2\u001B[39m\n\u001B[0;32m    195\u001B[0m n_channels \u001B[38;5;241m=\u001B[39m x\u001B[38;5;241m.\u001B[39msize(\u001B[38;5;241m1\u001B[39m)\n\u001B[1;32m--> 196\u001B[0m mu_x \u001B[38;5;241m=\u001B[39m \u001B[43mF\u001B[49m\u001B[38;5;241;43m.\u001B[39;49m\u001B[43mconv2d\u001B[49m\u001B[43m(\u001B[49m\u001B[43mx\u001B[49m\u001B[43m,\u001B[49m\u001B[43m \u001B[49m\u001B[43mweight\u001B[49m\u001B[38;5;241;43m=\u001B[39;49m\u001B[43mkernel\u001B[49m\u001B[43m,\u001B[49m\u001B[43m \u001B[49m\u001B[43mstride\u001B[49m\u001B[38;5;241;43m=\u001B[39;49m\u001B[38;5;241;43m1\u001B[39;49m\u001B[43m,\u001B[49m\u001B[43m \u001B[49m\u001B[43mpadding\u001B[49m\u001B[38;5;241;43m=\u001B[39;49m\u001B[38;5;241;43m0\u001B[39;49m\u001B[43m,\u001B[49m\u001B[43m \u001B[49m\u001B[43mgroups\u001B[49m\u001B[38;5;241;43m=\u001B[39;49m\u001B[43mn_channels\u001B[49m\u001B[43m)\u001B[49m\n\u001B[0;32m    197\u001B[0m mu_y \u001B[38;5;241m=\u001B[39m F\u001B[38;5;241m.\u001B[39mconv2d(y, weight\u001B[38;5;241m=\u001B[39mkernel, stride\u001B[38;5;241m=\u001B[39m\u001B[38;5;241m1\u001B[39m, padding\u001B[38;5;241m=\u001B[39m\u001B[38;5;241m0\u001B[39m, groups\u001B[38;5;241m=\u001B[39mn_channels)\n\u001B[0;32m    199\u001B[0m mu_xx \u001B[38;5;241m=\u001B[39m mu_x \u001B[38;5;241m*\u001B[39m\u001B[38;5;241m*\u001B[39m \u001B[38;5;241m2\u001B[39m\n",
      "\u001B[1;31mKeyboardInterrupt\u001B[0m: "
     ]
    }
   ],
   "execution_count": 21
  },
  {
   "metadata": {},
   "cell_type": "markdown",
   "source": "# Combination: Fisher + MS-SSIM",
   "id": "1dbe5bab6735437e"
  },
  {
   "metadata": {},
   "cell_type": "code",
   "outputs": [],
   "execution_count": null,
   "source": "",
   "id": "c00798146466526a"
  }
 ],
 "metadata": {
  "kernelspec": {
   "display_name": "Python 3",
   "language": "python",
   "name": "python3"
  },
  "language_info": {
   "codemirror_mode": {
    "name": "ipython",
    "version": 2
   },
   "file_extension": ".py",
   "mimetype": "text/x-python",
   "name": "python",
   "nbconvert_exporter": "python",
   "pygments_lexer": "ipython2",
   "version": "2.7.6"
  }
 },
 "nbformat": 4,
 "nbformat_minor": 5
}

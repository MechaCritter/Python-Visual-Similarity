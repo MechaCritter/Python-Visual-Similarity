{
 "cells": [
  {
   "metadata": {},
   "cell_type": "markdown",
   "source": "# Import libraries",
   "id": "50ea7da99a18c522"
  },
  {
   "cell_type": "code",
   "id": "initial_id",
   "metadata": {
    "collapsed": true,
    "ExecuteTime": {
     "end_time": "2024-12-02T10:28:42.589033Z",
     "start_time": "2024-12-02T10:28:42.582135Z"
    }
   },
   "source": [
    "import os\n",
    "import time\n",
    "import h5py\n",
    "import re\n",
    "import numpy as np\n",
    "from torch.utils.data import DataLoader\n",
    "\n",
    "from src.utils import *\n",
    "from src.datasets import ExcavatorDataset\n",
    "from src.metrics import VLAD, FisherVector\n",
    "from src.evaluate import compute_and_save_ssim_matrices\n",
    "from src.config import TRANSFORMER"
   ],
   "outputs": [],
   "execution_count": 10
  },
  {
   "metadata": {
    "ExecuteTime": {
     "end_time": "2024-12-02T10:28:43.519218Z",
     "start_time": "2024-12-02T10:28:43.487470Z"
    }
   },
   "cell_type": "code",
   "source": [
    "root = f'/home/ais/Bachelorarbeit/similarity_metrics_of_images/'\n",
    "dataset = ExcavatorDataset(return_type='image+mask+path', purpose='train')\n"
   ],
   "id": "252ce43dc92346d",
   "outputs": [],
   "execution_count": 11
  },
  {
   "metadata": {},
   "cell_type": "markdown",
   "source": "# Load k-means and GMM models",
   "id": "f7e427ea78be16fe"
  },
  {
   "metadata": {
    "ExecuteTime": {
     "end_time": "2024-12-02T10:30:15.587171Z",
     "start_time": "2024-12-02T10:30:15.575260Z"
    }
   },
   "cell_type": "code",
   "source": [
    "k_means_models = [\n",
    "    model for model in os.listdir(rf'{root}models/pickle_model_files') if 'k_means' in model\n",
    "]\n",
    "print(\"KMeans models:\", k_means_models)\n",
    "gmm_model = [\n",
    "    model for model in os.listdir(rf'{root}models/pickle_model_files') if 'gmm' in model\n",
    "]\n",
    "print(\"GMM models:\", gmm_model)"
   ],
   "id": "f39dbc30a3e88125",
   "outputs": [
    {
     "name": "stdout",
     "output_type": "stream",
     "text": [
      "KMeans models: ['k_means_model_k16_root_sift.pkl', 'k_means_model_k16_sift.pkl', 'k_means_model_k24_root_sift.pkl', 'k_means_model_k24_sift.pkl']\n",
      "GMM models: ['gmm_model_k16_root_sift.pkl', 'gmm_model_k24_sift.pkl', 'gmm_model_k24_root_sift.pkl', 'gmm_model_k16_sift.pkl']\n"
     ]
    }
   ],
   "execution_count": 16
  },
  {
   "metadata": {},
   "cell_type": "markdown",
   "source": "# Compute and save VLAD vector matrix in `HD5` format",
   "id": "52cd18776958058a"
  },
  {
   "metadata": {
    "ExecuteTime": {
     "end_time": "2024-12-02T10:43:16.954287Z",
     "start_time": "2024-12-02T10:30:25.095570Z"
    }
   },
   "cell_type": "code",
   "source": [
    "loader = DataLoader(dataset, batch_size=10, shuffle=False)\n",
    "\n",
    "for model in k_means_models:\n",
    "    num_clusters = int(re.findall(r'\\d+', model)[0])\n",
    "    vect_length = 128 * num_clusters if not 'pca' in model else 128 * num_clusters // 2\n",
    "    print(f\"Number of clusters: {num_clusters}, Vector length: {vect_length}\")\n",
    "    data = {}\n",
    "    feature = 'root_sift' if 'root' in model else 'sift'\n",
    "    for img, *_, path in dataset:\n",
    "\n",
    "        vlad = VLAD(\n",
    "            image=img,\n",
    "            k_means=load_model(rf'{root}models/pickle_model_files/{model}'),\n",
    "            flatten=True,\n",
    "            feature=feature\n",
    "        ).vector\n",
    "        if len(vlad) != vect_length:\n",
    "            raise ValueError(f\"Expected {vect_length}, got {len(vlad)}\")\n",
    "        data[path] = vlad\n",
    "    model_name = model.replace('.pkl', '')\n",
    "    save_to_hdf5(rf'{root}res/vlad/{model_name}.h5', data)"
   ],
   "id": "a13dbc56dc81e044",
   "outputs": [
    {
     "name": "stdout",
     "output_type": "stream",
     "text": [
      "Number of clusters: 16, Vector length: 2048\n",
      "Number of clusters: 16, Vector length: 2048\n",
      "Number of clusters: 24, Vector length: 3072\n",
      "Number of clusters: 24, Vector length: 3072\n"
     ]
    }
   ],
   "execution_count": 17
  },
  {
   "metadata": {},
   "cell_type": "markdown",
   "source": "# Compute and save Fisher vector matrix in `HD5` format",
   "id": "18a6d20ce475b22c"
  },
  {
   "metadata": {
    "ExecuteTime": {
     "end_time": "2024-12-02T10:43:17.416594Z",
     "start_time": "2024-12-02T10:43:17.063014Z"
    }
   },
   "cell_type": "code",
   "source": [
    "for model in gmm_model:\n",
    "    num_clusters = int(re.findall(r'\\d+', model)[0])\n",
    "    vect_length = (2 * 128 * num_clusters + num_clusters) if not 'pca' in model else (2 * 128 * num_clusters + num_clusters) // 2\n",
    "    print(f\"Number of clusters: {num_clusters}, Vector length: {vect_length}\")\n",
    "    data = {}\n",
    "    feature = 'root_sift' if 'root' in model else 'sift'\n",
    "\n",
    "    for img, *_, path in dataset:\n",
    "\n",
    "        fisher = FisherVector(\n",
    "            image=img,\n",
    "            gmm=load_model(rf'{root}models/pickle_model_files/{model}'),\n",
    "            flatten=True,\n",
    "            feature=feature\n",
    "        ).vector\n",
    "        if len(fisher) != vect_length:\n",
    "            raise ValueError(f\"Expected {vect_length}, got {len(fisher)}\")\n",
    "        path = [pth.replace('/', '|').replace('\\\\', '|') for pth in path]\n",
    "        data[path] = fisher\n",
    "\n",
    "\n",
    "    model_name = model.replace('.pkl', '')\n",
    "    save_to_hdf5(rf'{root}res/fisher/{model_name}.h5', data)"
   ],
   "id": "62461d6f5a4b6d57",
   "outputs": [
    {
     "name": "stdout",
     "output_type": "stream",
     "text": [
      "Number of clusters: 16, Vector length: 4112\n"
     ]
    },
    {
     "ename": "TypeError",
     "evalue": "unhashable type: 'list'",
     "output_type": "error",
     "traceback": [
      "\u001B[0;31m---------------------------------------------------------------------------\u001B[0m",
      "\u001B[0;31mTypeError\u001B[0m                                 Traceback (most recent call last)",
      "Cell \u001B[0;32mIn[18], line 19\u001B[0m\n\u001B[1;32m     17\u001B[0m         \u001B[38;5;28;01mraise\u001B[39;00m \u001B[38;5;167;01mValueError\u001B[39;00m(\u001B[38;5;124mf\u001B[39m\u001B[38;5;124m\"\u001B[39m\u001B[38;5;124mExpected \u001B[39m\u001B[38;5;132;01m{\u001B[39;00mvect_length\u001B[38;5;132;01m}\u001B[39;00m\u001B[38;5;124m, got \u001B[39m\u001B[38;5;132;01m{\u001B[39;00m\u001B[38;5;28mlen\u001B[39m(fisher)\u001B[38;5;132;01m}\u001B[39;00m\u001B[38;5;124m\"\u001B[39m)\n\u001B[1;32m     18\u001B[0m     path \u001B[38;5;241m=\u001B[39m [pth\u001B[38;5;241m.\u001B[39mreplace(\u001B[38;5;124m'\u001B[39m\u001B[38;5;124m/\u001B[39m\u001B[38;5;124m'\u001B[39m, \u001B[38;5;124m'\u001B[39m\u001B[38;5;124m|\u001B[39m\u001B[38;5;124m'\u001B[39m)\u001B[38;5;241m.\u001B[39mreplace(\u001B[38;5;124m'\u001B[39m\u001B[38;5;130;01m\\\\\u001B[39;00m\u001B[38;5;124m'\u001B[39m, \u001B[38;5;124m'\u001B[39m\u001B[38;5;124m|\u001B[39m\u001B[38;5;124m'\u001B[39m) \u001B[38;5;28;01mfor\u001B[39;00m pth \u001B[38;5;129;01min\u001B[39;00m path]\n\u001B[0;32m---> 19\u001B[0m     \u001B[43mdata\u001B[49m\u001B[43m[\u001B[49m\u001B[43mpath\u001B[49m\u001B[43m]\u001B[49m \u001B[38;5;241m=\u001B[39m fisher\n\u001B[1;32m     22\u001B[0m model_name \u001B[38;5;241m=\u001B[39m model\u001B[38;5;241m.\u001B[39mreplace(\u001B[38;5;124m'\u001B[39m\u001B[38;5;124m.pkl\u001B[39m\u001B[38;5;124m'\u001B[39m, \u001B[38;5;124m'\u001B[39m\u001B[38;5;124m'\u001B[39m)\n\u001B[1;32m     23\u001B[0m save_to_hdf5(\u001B[38;5;124mrf\u001B[39m\u001B[38;5;124m'\u001B[39m\u001B[38;5;132;01m{\u001B[39;00mroot\u001B[38;5;132;01m}\u001B[39;00m\u001B[38;5;124mres/fisher/\u001B[39m\u001B[38;5;132;01m{\u001B[39;00mmodel_name\u001B[38;5;132;01m}\u001B[39;00m\u001B[38;5;124m.h5\u001B[39m\u001B[38;5;124m'\u001B[39m, data)\n",
      "\u001B[0;31mTypeError\u001B[0m: unhashable type: 'list'"
     ]
    }
   ],
   "execution_count": 18
  },
  {
   "metadata": {},
   "cell_type": "markdown",
   "source": [
    "# SSIM\n",
    "\n",
    "1. Choosing kernel size for `gaussian_blur` function\n",
    "\n",
    "Using the empirical rule, the kernel radius should span 3 times the standard deviation. Which means:\n",
    "\n",
    "```python\n",
    "kernel_radius = int(3 * sigma)\n",
    "kernel_size = 2 * kernel_radius + 1 # In order that the kernel is centered around the central pixel\n",
    "```"
   ],
   "id": "76af4268817956e4"
  },
  {
   "metadata": {
    "ExecuteTime": {
     "end_time": "2024-11-30T21:11:50.396653Z",
     "start_time": "2024-11-30T21:11:50.363289Z"
    }
   },
   "cell_type": "code",
   "source": "dataset = ExcavatorDataset(return_type='image+mask+path', purpose='train', transform=TRANSFORMER)",
   "id": "63e8db1ddb00359a",
   "outputs": [],
   "execution_count": 6
  },
  {
   "metadata": {
    "ExecuteTime": {
     "end_time": "2024-12-01T00:26:15.833540Z",
     "start_time": "2024-11-30T21:19:48.538529Z"
    }
   },
   "cell_type": "code",
   "source": [
    "output_dir = f'{root}res/ssim'\n",
    "os.makedirs(output_dir, exist_ok=True)\n",
    "\n",
    "batch_size = 40\n",
    "gaussian_sigmas = [2 * i for i in range(1, 10, 2)]  # [2, 6, 10, 14, 18]\n",
    "\n",
    "for sigma in gaussian_sigmas:\n",
    "    compute_and_save_ssim_matrices(dataset=dataset,\n",
    "                                   output_dir=output_dir,                     batch_size=batch_size,\n",
    "                                   gaussian_sigma=sigma)\n"
   ],
   "id": "a7e17318ea676a7c",
   "outputs": [
    {
     "name": "stdout",
     "output_type": "stream",
     "text": [
      "Kernel size used for sigma=2: 13\n"
     ]
    },
    {
     "name": "stderr",
     "output_type": "stream",
     "text": [
      "Computing SSIM/MS-SSIM:: 100%|██████████| 39672/39672 [34:55<00:00, 18.93it/s]\n"
     ]
    },
    {
     "name": "stdout",
     "output_type": "stream",
     "text": [
      "Saved SSIM and MS-SSIM matrices using: \n",
      "sigma=2, kernel_size=13, compression_quality=None\n",
      "Kernel size used for sigma=6: 37\n"
     ]
    },
    {
     "name": "stderr",
     "output_type": "stream",
     "text": [
      "Computing SSIM/MS-SSIM:: 100%|██████████| 39672/39672 [34:47<00:00, 19.00it/s]\n"
     ]
    },
    {
     "name": "stdout",
     "output_type": "stream",
     "text": [
      "Saved SSIM and MS-SSIM matrices using: \n",
      "sigma=6, kernel_size=37, compression_quality=None\n",
      "Kernel size used for sigma=10: 61\n"
     ]
    },
    {
     "name": "stderr",
     "output_type": "stream",
     "text": [
      "Computing SSIM/MS-SSIM:: 100%|██████████| 39672/39672 [34:43<00:00, 19.04it/s]\n"
     ]
    },
    {
     "name": "stdout",
     "output_type": "stream",
     "text": [
      "Saved SSIM and MS-SSIM matrices using: \n",
      "sigma=10, kernel_size=61, compression_quality=None\n",
      "Kernel size used for sigma=14: 85\n"
     ]
    },
    {
     "name": "stderr",
     "output_type": "stream",
     "text": [
      "Computing SSIM/MS-SSIM:: 100%|██████████| 39672/39672 [34:39<00:00, 19.08it/s]\n"
     ]
    },
    {
     "name": "stdout",
     "output_type": "stream",
     "text": [
      "Saved SSIM and MS-SSIM matrices using: \n",
      "sigma=14, kernel_size=85, compression_quality=None\n",
      "Kernel size used for sigma=18: 109\n"
     ]
    },
    {
     "name": "stderr",
     "output_type": "stream",
     "text": [
      "Computing SSIM/MS-SSIM:: 100%|██████████| 39672/39672 [34:37<00:00, 19.09it/s]\n"
     ]
    },
    {
     "name": "stdout",
     "output_type": "stream",
     "text": [
      "Saved SSIM and MS-SSIM matrices using: \n",
      "sigma=18, kernel_size=109, compression_quality=None\n"
     ]
    }
   ],
   "execution_count": 9
  },
  {
   "metadata": {},
   "cell_type": "markdown",
   "source": "### Optional: Compute SSIM and MS-SSIM matrices for different compression qualities",
   "id": "dc8c101bbac356a5"
  },
  {
   "metadata": {},
   "cell_type": "code",
   "source": [
    "compression_qualities = [i for i in range(10, 101, 10)]\n",
    "output_dir = f'{root}res/ssim/compression'\n",
    "os.makedirs(output_dir, exist_ok=True)\n",
    "\n",
    "for quality in compression_qualities:\n",
    "    compute_and_save_ssim_matrices(dataset=dataset,\n",
    "                                   output_dir=output_dir,\n",
    "                                   batch_size=batch_size,\n",
    "                                   compression_quality=quality)"
   ],
   "id": "131baef845dc4cb7",
   "outputs": [],
   "execution_count": null
  },
  {
   "metadata": {},
   "cell_type": "code",
   "outputs": [],
   "execution_count": null,
   "source": "",
   "id": "44ac63abf38da598"
  }
 ],
 "metadata": {
  "kernelspec": {
   "display_name": "Python 3",
   "language": "python",
   "name": "python3"
  },
  "language_info": {
   "codemirror_mode": {
    "name": "ipython",
    "version": 2
   },
   "file_extension": ".py",
   "mimetype": "text/x-python",
   "name": "python",
   "nbconvert_exporter": "python",
   "pygments_lexer": "ipython2",
   "version": "2.7.6"
  }
 },
 "nbformat": 4,
 "nbformat_minor": 5
}
